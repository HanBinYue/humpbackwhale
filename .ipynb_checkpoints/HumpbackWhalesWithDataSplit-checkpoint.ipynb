{
 "cells": [
  {
   "cell_type": "markdown",
   "metadata": {},
   "source": [
    "## Imports"
   ]
  },
  {
   "cell_type": "code",
   "execution_count": 1,
   "metadata": {},
   "outputs": [
    {
     "name": "stderr",
     "output_type": "stream",
     "text": [
      "Using TensorFlow backend.\n"
     ]
    }
   ],
   "source": [
    "import numpy as np \n",
    "import pandas as pd \n",
    "import os\n",
    "import gc\n",
    "import copy\n",
    "import matplotlib.pyplot as plt\n",
    "import matplotlib.image as mplimg\n",
    "from matplotlib.pyplot import imshow\n",
    "\n",
    "from sklearn.preprocessing import LabelEncoder\n",
    "from sklearn.preprocessing import OneHotEncoder\n",
    "\n",
    "from keras import layers\n",
    "from keras.preprocessing import image\n",
    "from keras.applications.imagenet_utils import preprocess_input\n",
    "from keras.layers import Input, Dense, Activation, BatchNormalization, Flatten, Conv2D\n",
    "from keras.layers import AveragePooling2D, MaxPooling2D, Dropout, GlobalAveragePooling2D\n",
    "from keras.models import Model\n",
    "from keras.applications.resnet50 import preprocess_input, decode_predictions\n",
    "\n",
    "import keras.backend as K\n",
    "from keras.models import Sequential\n",
    "\n",
    "import warnings\n",
    "warnings.simplefilter(\"ignore\", category=DeprecationWarning)"
   ]
  },
  {
   "cell_type": "markdown",
   "metadata": {},
   "source": [
    "## Set Data path"
   ]
  },
  {
   "cell_type": "code",
   "execution_count": 2,
   "metadata": {},
   "outputs": [
    {
     "data": {
      "text/plain": [
       "['.DS_Store',\n",
       " 'test',\n",
       " 'data.zip',\n",
       " 'trainexcel.csv',\n",
       " 'train',\n",
       " 'train.csv',\n",
       " 'sample_submission.csv']"
      ]
     },
     "execution_count": 2,
     "metadata": {},
     "output_type": "execute_result"
    }
   ],
   "source": [
    "datadir = os.path.expanduser('~/Dev/humpbackwhale/data')\n",
    "pretrainedmodeldir = os.path.expanduser('~/Dev/humpbackwhale/pretrainedmodels')\n",
    "os.listdir(os.path.expanduser(datadir))"
   ]
  },
  {
   "cell_type": "code",
   "execution_count": 3,
   "metadata": {},
   "outputs": [
    {
     "data": {
      "text/html": [
       "<div>\n",
       "<style scoped>\n",
       "    .dataframe tbody tr th:only-of-type {\n",
       "        vertical-align: middle;\n",
       "    }\n",
       "\n",
       "    .dataframe tbody tr th {\n",
       "        vertical-align: top;\n",
       "    }\n",
       "\n",
       "    .dataframe thead th {\n",
       "        text-align: right;\n",
       "    }\n",
       "</style>\n",
       "<table border=\"1\" class=\"dataframe\">\n",
       "  <thead>\n",
       "    <tr style=\"text-align: right;\">\n",
       "      <th></th>\n",
       "      <th>Image</th>\n",
       "      <th>Id</th>\n",
       "    </tr>\n",
       "  </thead>\n",
       "  <tbody>\n",
       "    <tr>\n",
       "      <th>0</th>\n",
       "      <td>0000e88ab.jpg</td>\n",
       "      <td>w_f48451c</td>\n",
       "    </tr>\n",
       "    <tr>\n",
       "      <th>1</th>\n",
       "      <td>0001f9222.jpg</td>\n",
       "      <td>w_c3d896a</td>\n",
       "    </tr>\n",
       "    <tr>\n",
       "      <th>2</th>\n",
       "      <td>00029d126.jpg</td>\n",
       "      <td>w_20df2c5</td>\n",
       "    </tr>\n",
       "    <tr>\n",
       "      <th>3</th>\n",
       "      <td>00050a15a.jpg</td>\n",
       "      <td>new_whale</td>\n",
       "    </tr>\n",
       "    <tr>\n",
       "      <th>4</th>\n",
       "      <td>0005c1ef8.jpg</td>\n",
       "      <td>new_whale</td>\n",
       "    </tr>\n",
       "  </tbody>\n",
       "</table>\n",
       "</div>"
      ],
      "text/plain": [
       "           Image         Id\n",
       "0  0000e88ab.jpg  w_f48451c\n",
       "1  0001f9222.jpg  w_c3d896a\n",
       "2  00029d126.jpg  w_20df2c5\n",
       "3  00050a15a.jpg  new_whale\n",
       "4  0005c1ef8.jpg  new_whale"
      ]
     },
     "execution_count": 3,
     "metadata": {},
     "output_type": "execute_result"
    }
   ],
   "source": [
    "train_df = pd.read_csv(datadir + '/train.csv')\n",
    "#train_df = train_df[:500]\n",
    "train_df.head()"
   ]
  },
  {
   "cell_type": "code",
   "execution_count": 4,
   "metadata": {},
   "outputs": [],
   "source": [
    "def prepareImages(data, m, dataset):\n",
    "    print(\"Preparing images\")\n",
    "    X_train = np.zeros((m, 100, 100, 3))\n",
    "    count = 0\n",
    "    \n",
    "    for fig in data['Image']:\n",
    "        #load images into images of size 100x100x3\n",
    "        img = image.load_img(datadir+\"/\"+dataset+\"/\"+fig, target_size=(100, 100, 3))\n",
    "        x = image.img_to_array(img)\n",
    "        #x = np.expand_dims(x, axis=0)\n",
    "        x = preprocess_input(x)\n",
    "        x = x.astype('float32')/255\n",
    "        X_train[count] = x\n",
    "        if (count%500 == 0):\n",
    "            print(\"Processing image: \", count+1, \", \", fig)\n",
    "        count += 1\n",
    "    \n",
    "    return X_train"
   ]
  },
  {
   "cell_type": "code",
   "execution_count": 5,
   "metadata": {},
   "outputs": [],
   "source": [
    "def prepare_labels(y):\n",
    "    values = np.array(y)\n",
    "    label_encoder = LabelEncoder()\n",
    "    integer_encoded = label_encoder.fit_transform(values)\n",
    "    # print(integer_encoded)\n",
    "\n",
    "    onehot_encoder = OneHotEncoder(sparse=False)\n",
    "    integer_encoded = integer_encoded.reshape(len(integer_encoded), 1)\n",
    "    onehot_encoded = onehot_encoder.fit_transform(integer_encoded)\n",
    "    # print(onehot_encoded)\n",
    "\n",
    "    y = onehot_encoded\n",
    "    # print(y.shape)\n",
    "    return y, label_encoder"
   ]
  },
  {
   "cell_type": "code",
   "execution_count": 6,
   "metadata": {
    "scrolled": true
   },
   "outputs": [
    {
     "name": "stdout",
     "output_type": "stream",
     "text": [
      "Preparing images\n",
      "('Processing image: ', 1, ', ', '0000e88ab.jpg')\n",
      "('Processing image: ', 501, ', ', '04c72257b.jpg')\n",
      "('Processing image: ', 1001, ', ', '09cacb84d.jpg')\n",
      "('Processing image: ', 1501, ', ', '0ef961892.jpg')\n",
      "('Processing image: ', 2001, ', ', '141b56a1a.jpg')\n",
      "('Processing image: ', 2501, ', ', '199a417aa.jpg')\n",
      "('Processing image: ', 3001, ', ', '1ec170983.jpg')\n",
      "('Processing image: ', 3501, ', ', '23f084b93.jpg')\n",
      "('Processing image: ', 4001, ', ', '29163ad0b.jpg')\n",
      "('Processing image: ', 4501, ', ', '2e0fab120.jpg')\n",
      "('Processing image: ', 5001, ', ', '3347515d9.jpg')\n",
      "('Processing image: ', 5501, ', ', '3842d71dc.jpg')\n",
      "('Processing image: ', 6001, ', ', '3d7f4c7d5.jpg')\n",
      "('Processing image: ', 6501, ', ', '425f763ca.jpg')\n",
      "('Processing image: ', 7001, ', ', '4714400cd.jpg')\n",
      "('Processing image: ', 7501, ', ', '4c082fbdf.jpg')\n",
      "('Processing image: ', 8001, ', ', '50c683e23.jpg')\n",
      "('Processing image: ', 8501, ', ', '560d986ad.jpg')\n",
      "('Processing image: ', 9001, ', ', '5b68c83ed.jpg')\n",
      "('Processing image: ', 9501, ', ', '60410f111.jpg')\n",
      "('Processing image: ', 10001, ', ', '654951f81.jpg')\n",
      "('Processing image: ', 10501, ', ', '6a572256c.jpg')\n",
      "('Processing image: ', 11001, ', ', '6f96f55b6.jpg')\n",
      "('Processing image: ', 11501, ', ', '74da2b511.jpg')\n",
      "('Processing image: ', 12001, ', ', '7989d9a27.jpg')\n",
      "('Processing image: ', 12501, ', ', '7e5aa2d8a.jpg')\n",
      "('Processing image: ', 13001, ', ', '832382cfb.jpg')\n",
      "('Processing image: ', 13501, ', ', '87f6c0a15.jpg')\n",
      "('Processing image: ', 14001, ', ', '8cfc22e5d.jpg')\n",
      "('Processing image: ', 14501, ', ', '91dcfedcd.jpg')\n",
      "('Processing image: ', 15001, ', ', '97079398e.jpg')\n",
      "('Processing image: ', 15501, ', ', '9c2ad64a9.jpg')\n",
      "('Processing image: ', 16001, ', ', 'a11956dff.jpg')\n",
      "('Processing image: ', 16501, ', ', 'a5f9ffe86.jpg')\n",
      "('Processing image: ', 17001, ', ', 'aaf1a967b.jpg')\n",
      "('Processing image: ', 17501, ', ', 'af9a1ffc6.jpg')\n",
      "('Processing image: ', 18001, ', ', 'b4e02531d.jpg')\n",
      "('Processing image: ', 18501, ', ', 'ba2355ca6.jpg')\n",
      "('Processing image: ', 19001, ', ', 'bf60e7fed.jpg')\n",
      "('Processing image: ', 19501, ', ', 'c49f39ce3.jpg')\n",
      "('Processing image: ', 20001, ', ', 'c960111d0.jpg')\n",
      "('Processing image: ', 20501, ', ', 'ce7984d8a.jpg')\n",
      "('Processing image: ', 21001, ', ', 'd38efaec9.jpg')\n",
      "('Processing image: ', 21501, ', ', 'd831d28ee.jpg')\n",
      "('Processing image: ', 22001, ', ', 'dd3ca2387.jpg')\n",
      "('Processing image: ', 22501, ', ', 'e288d66cf.jpg')\n",
      "('Processing image: ', 23001, ', ', 'e7cc793db.jpg')\n",
      "('Processing image: ', 23501, ', ', 'ec8c7229d.jpg')\n",
      "('Processing image: ', 24001, ', ', 'f1b850552.jpg')\n",
      "('Processing image: ', 24501, ', ', 'f6af8a4b8.jpg')\n",
      "('Processing image: ', 25001, ', ', 'fc09f2302.jpg')\n"
     ]
    },
    {
     "data": {
      "text/plain": [
       "(25361, 100, 100, 3)"
      ]
     },
     "execution_count": 6,
     "metadata": {},
     "output_type": "execute_result"
    }
   ],
   "source": [
    "X = prepareImages(train_df, train_df.shape[0], \"train\")\n",
    "#X /= 100\n",
    "X.shape"
   ]
  },
  {
   "cell_type": "code",
   "execution_count": 7,
   "metadata": {},
   "outputs": [
    {
     "name": "stderr",
     "output_type": "stream",
     "text": [
      "/Users/marcelschneider/anaconda3/envs/humpbackwhale/lib/python2.7/site-packages/sklearn/preprocessing/_encoders.py:368: FutureWarning: The handling of integer data will change in version 0.22. Currently, the categories are determined based on the range [0, max(values)], while in the future they will be determined based on the unique values.\n",
      "If you want the future behaviour and silence this warning, you can specify \"categories='auto'\".\n",
      "In case you used a LabelEncoder before this OneHotEncoder to convert the categories to integers, then you can now use the OneHotEncoder directly.\n",
      "  warnings.warn(msg, FutureWarning)\n"
     ]
    }
   ],
   "source": [
    "y, label_encoder = prepare_labels(train_df['Id'])\n"
   ]
  },
  {
   "cell_type": "code",
   "execution_count": 8,
   "metadata": {},
   "outputs": [
    {
     "name": "stdout",
     "output_type": "stream",
     "text": [
      "(20288, 100, 100, 3)\n",
      "(5073, 100, 100, 3)\n",
      "(25361, 100, 100, 3)\n"
     ]
    }
   ],
   "source": [
    "from sklearn.model_selection import train_test_split\n",
    "X_train, X_test, y_train, y_test = train_test_split(X, y, test_size=0.2, random_state=1)"
   ]
  },
  {
   "cell_type": "code",
   "execution_count": 72,
   "metadata": {},
   "outputs": [],
   "source": [
    "datagen = image.ImageDataGenerator(\n",
    "    featurewise_center=True,\n",
    "    featurewise_std_normalization=True,\n",
    "    rotation_range=20,\n",
    "    width_shift_range=0.2,\n",
    "    height_shift_range=0.2,\n",
    "    horizontal_flip=True)\n",
    "\n",
    "datagen.fit(X_train)"
   ]
  },
  {
   "cell_type": "code",
   "execution_count": 70,
   "metadata": {},
   "outputs": [],
   "source": [
    "def CNN_Simple(): \n",
    "    model = Sequential()\n",
    "\n",
    "    model.add(Conv2D(32, (7, 7), strides = (1, 1), name = 'conv0', input_shape = (100, 100, 3)))\n",
    "\n",
    "    model.add(BatchNormalization(axis = 3, name = 'bn0'))\n",
    "    model.add(Activation('relu'))\n",
    "\n",
    "    model.add(MaxPooling2D((2, 2), name='max_pool'))\n",
    "    model.add(Conv2D(64, (3, 3), strides = (1,1), name=\"conv1\"))\n",
    "    model.add(Activation('relu'))\n",
    "    model.add(AveragePooling2D((3, 3), name='avg_pool'))\n",
    "\n",
    "    model.add(Flatten())\n",
    "    model.add(Dense(500, activation=\"relu\", name='rl'))\n",
    "    model.add(Dropout(0.8))\n",
    "    model.add(Dense(y.shape[1], activation='softmax', name='sm'))\n",
    "\n",
    "    model.compile(loss='categorical_crossentropy', optimizer=\"adam\", metrics=['accuracy'])\n",
    "    model.summary()\n",
    "    \n",
    "    return model"
   ]
  },
  {
   "cell_type": "markdown",
   "metadata": {},
   "source": [
    "### Transfer Learning"
   ]
  },
  {
   "cell_type": "code",
   "execution_count": 10,
   "metadata": {},
   "outputs": [],
   "source": [
    "bottleneck_features = np.load(pretrainedmodeldir+\"/DogResnet50Data.npz\")\n",
    "train_Resnet50 = bottleneck_features['train']\n",
    "test_Resnet50 = bottleneck_features['test']\n",
    "\n",
    "def resnet_model(trainbottleneckfeatures):\n",
    "    model = Sequential()\n",
    "    \n",
    "    model.add(Conv2D(32, (7, 7), strides = (1, 1), name = 'conv0', input_shape = (100, 100, 3)))\n",
    "\n",
    "    model.add(GlobalAveragePooling2D(input_shape=trainbottleneckfeatures.shape[1:]))\n",
    "    model.add(Dense(500, activation='relu'))\n",
    "    model.add(Dropout(0.5))\n",
    "    model.add(Dense(y.shape[1], activation='softmax', name='sm'))\n",
    "    model.compile(loss='categorical_crossentropy', optimizer=\"adam\", metrics=['accuracy'])\n",
    "    model.summary()\n",
    "    \n",
    "    return model"
   ]
  },
  {
   "cell_type": "code",
   "execution_count": null,
   "metadata": {},
   "outputs": [],
   "source": [
    "from keras.applications import MobileNet\n",
    "\n",
    "def mobilenet_model():\n",
    "    base_model=MobileNet(weights='imagenet',include_top=False) #imports the mobilenet model and discards the last 1000 neuron layer.\n",
    "\n",
    "    xx=base_model.output\n",
    "    xx=GlobalAveragePooling2D()(xx)\n",
    "    xx=Dense(1024,activation='relu')(xx) #we add dense layers so that the model can learn more complex functions and classify for better results.\n",
    "    xx=Dense(1024,activation='relu')(xx) #dense layer 2\n",
    "    xx=Dense(512,activation='relu')(xx) #dense layer 3\n",
    "    xx=Dropout(0.8)(xx)\n",
    "    preds=Dense(y.shape[1],activation='softmax')(xx) #final layer with softmax activation\n",
    "    \n",
    "    model=Model(inputs=base_model.input,outputs=preds)\n",
    "    #for i,layer in enumerate(model.layers):\n",
    "        #print(i,layer.name)\n",
    "    print(model.summary())\n",
    "    # or if we want to set the first 20 layers of the network to be non-trainable\n",
    "    for layer in model.layers[:50]:\n",
    "        layer.trainable=False\n",
    "    for layer in model.layers[50:]:\n",
    "        layer.trainable=True\n",
    "    \n",
    "    model.compile(loss='categorical_crossentropy', optimizer=\"adam\", metrics=['accuracy'])\n",
    "    return model\n",
    "              \n",
    "              "
   ]
  },
  {
   "cell_type": "code",
   "execution_count": 64,
   "metadata": {},
   "outputs": [],
   "source": [
    "from keras.applications.resnet50 import ResNet50, preprocess_input\n",
    "\n",
    "def resnet50_model(): \n",
    "    base_model = ResNet50(weights='imagenet', \n",
    "                      include_top=False, \n",
    "                      input_shape=(100, 100, 3))\n",
    "    \n",
    "    for layer in base_model.layers:\n",
    "        layer.trainable = False\n",
    "        \n",
    "    x = base_model.output\n",
    "    x = Flatten()(x)\n",
    "    for fc in [1024,1024]:\n",
    "        # New FC layer, random init\n",
    "        x = Dense(fc, activation='relu')(x) \n",
    "        x = Dropout(0.5)(x)\n",
    "\n",
    "    # New softmax layer\n",
    "    preds = Dense(y.shape[1], activation='softmax')(x) \n",
    "    \n",
    "    model = Model(inputs=base_model.input, outputs=preds)\n",
    "    model.compile(loss='categorical_crossentropy', optimizer=\"adam\", metrics=['accuracy'])\n",
    "    print(model.summary())\n",
    "    return model"
   ]
  },
  {
   "cell_type": "code",
   "execution_count": 81,
   "metadata": {},
   "outputs": [
    {
     "name": "stdout",
     "output_type": "stream",
     "text": [
      "__________________________________________________________________________________________________\n",
      "Layer (type)                    Output Shape         Param #     Connected to                     \n",
      "==================================================================================================\n",
      "input_13 (InputLayer)           (None, 100, 100, 3)  0                                            \n",
      "__________________________________________________________________________________________________\n",
      "conv1_pad (ZeroPadding2D)       (None, 106, 106, 3)  0           input_13[0][0]                   \n",
      "__________________________________________________________________________________________________\n",
      "conv1 (Conv2D)                  (None, 50, 50, 64)   9472        conv1_pad[0][0]                  \n",
      "__________________________________________________________________________________________________\n",
      "bn_conv1 (BatchNormalization)   (None, 50, 50, 64)   256         conv1[0][0]                      \n",
      "__________________________________________________________________________________________________\n",
      "activation_248 (Activation)     (None, 50, 50, 64)   0           bn_conv1[0][0]                   \n",
      "__________________________________________________________________________________________________\n",
      "pool1_pad (ZeroPadding2D)       (None, 52, 52, 64)   0           activation_248[0][0]             \n",
      "__________________________________________________________________________________________________\n",
      "max_pooling2d_6 (MaxPooling2D)  (None, 25, 25, 64)   0           pool1_pad[0][0]                  \n",
      "__________________________________________________________________________________________________\n",
      "res2a_branch2a (Conv2D)         (None, 25, 25, 64)   4160        max_pooling2d_6[0][0]            \n",
      "__________________________________________________________________________________________________\n",
      "bn2a_branch2a (BatchNormalizati (None, 25, 25, 64)   256         res2a_branch2a[0][0]             \n",
      "__________________________________________________________________________________________________\n",
      "activation_249 (Activation)     (None, 25, 25, 64)   0           bn2a_branch2a[0][0]              \n",
      "__________________________________________________________________________________________________\n",
      "res2a_branch2b (Conv2D)         (None, 25, 25, 64)   36928       activation_249[0][0]             \n",
      "__________________________________________________________________________________________________\n",
      "bn2a_branch2b (BatchNormalizati (None, 25, 25, 64)   256         res2a_branch2b[0][0]             \n",
      "__________________________________________________________________________________________________\n",
      "activation_250 (Activation)     (None, 25, 25, 64)   0           bn2a_branch2b[0][0]              \n",
      "__________________________________________________________________________________________________\n",
      "res2a_branch2c (Conv2D)         (None, 25, 25, 256)  16640       activation_250[0][0]             \n",
      "__________________________________________________________________________________________________\n",
      "res2a_branch1 (Conv2D)          (None, 25, 25, 256)  16640       max_pooling2d_6[0][0]            \n",
      "__________________________________________________________________________________________________\n",
      "bn2a_branch2c (BatchNormalizati (None, 25, 25, 256)  1024        res2a_branch2c[0][0]             \n",
      "__________________________________________________________________________________________________\n",
      "bn2a_branch1 (BatchNormalizatio (None, 25, 25, 256)  1024        res2a_branch1[0][0]              \n",
      "__________________________________________________________________________________________________\n",
      "add_81 (Add)                    (None, 25, 25, 256)  0           bn2a_branch2c[0][0]              \n",
      "                                                                 bn2a_branch1[0][0]               \n",
      "__________________________________________________________________________________________________\n",
      "activation_251 (Activation)     (None, 25, 25, 256)  0           add_81[0][0]                     \n",
      "__________________________________________________________________________________________________\n",
      "res2b_branch2a (Conv2D)         (None, 25, 25, 64)   16448       activation_251[0][0]             \n",
      "__________________________________________________________________________________________________\n",
      "bn2b_branch2a (BatchNormalizati (None, 25, 25, 64)   256         res2b_branch2a[0][0]             \n",
      "__________________________________________________________________________________________________\n",
      "activation_252 (Activation)     (None, 25, 25, 64)   0           bn2b_branch2a[0][0]              \n",
      "__________________________________________________________________________________________________\n",
      "res2b_branch2b (Conv2D)         (None, 25, 25, 64)   36928       activation_252[0][0]             \n",
      "__________________________________________________________________________________________________\n",
      "bn2b_branch2b (BatchNormalizati (None, 25, 25, 64)   256         res2b_branch2b[0][0]             \n",
      "__________________________________________________________________________________________________\n",
      "activation_253 (Activation)     (None, 25, 25, 64)   0           bn2b_branch2b[0][0]              \n",
      "__________________________________________________________________________________________________\n",
      "res2b_branch2c (Conv2D)         (None, 25, 25, 256)  16640       activation_253[0][0]             \n",
      "__________________________________________________________________________________________________\n",
      "bn2b_branch2c (BatchNormalizati (None, 25, 25, 256)  1024        res2b_branch2c[0][0]             \n",
      "__________________________________________________________________________________________________\n",
      "add_82 (Add)                    (None, 25, 25, 256)  0           bn2b_branch2c[0][0]              \n",
      "                                                                 activation_251[0][0]             \n",
      "__________________________________________________________________________________________________\n",
      "activation_254 (Activation)     (None, 25, 25, 256)  0           add_82[0][0]                     \n",
      "__________________________________________________________________________________________________\n",
      "res2c_branch2a (Conv2D)         (None, 25, 25, 64)   16448       activation_254[0][0]             \n",
      "__________________________________________________________________________________________________\n",
      "bn2c_branch2a (BatchNormalizati (None, 25, 25, 64)   256         res2c_branch2a[0][0]             \n",
      "__________________________________________________________________________________________________\n",
      "activation_255 (Activation)     (None, 25, 25, 64)   0           bn2c_branch2a[0][0]              \n",
      "__________________________________________________________________________________________________\n",
      "res2c_branch2b (Conv2D)         (None, 25, 25, 64)   36928       activation_255[0][0]             \n",
      "__________________________________________________________________________________________________\n",
      "bn2c_branch2b (BatchNormalizati (None, 25, 25, 64)   256         res2c_branch2b[0][0]             \n",
      "__________________________________________________________________________________________________\n",
      "activation_256 (Activation)     (None, 25, 25, 64)   0           bn2c_branch2b[0][0]              \n",
      "__________________________________________________________________________________________________\n",
      "res2c_branch2c (Conv2D)         (None, 25, 25, 256)  16640       activation_256[0][0]             \n",
      "__________________________________________________________________________________________________\n",
      "bn2c_branch2c (BatchNormalizati (None, 25, 25, 256)  1024        res2c_branch2c[0][0]             \n",
      "__________________________________________________________________________________________________\n",
      "add_83 (Add)                    (None, 25, 25, 256)  0           bn2c_branch2c[0][0]              \n",
      "                                                                 activation_254[0][0]             \n",
      "__________________________________________________________________________________________________\n",
      "activation_257 (Activation)     (None, 25, 25, 256)  0           add_83[0][0]                     \n",
      "__________________________________________________________________________________________________\n",
      "res3a_branch2a (Conv2D)         (None, 13, 13, 128)  32896       activation_257[0][0]             \n",
      "__________________________________________________________________________________________________\n",
      "bn3a_branch2a (BatchNormalizati (None, 13, 13, 128)  512         res3a_branch2a[0][0]             \n",
      "__________________________________________________________________________________________________\n",
      "activation_258 (Activation)     (None, 13, 13, 128)  0           bn3a_branch2a[0][0]              \n",
      "__________________________________________________________________________________________________\n",
      "res3a_branch2b (Conv2D)         (None, 13, 13, 128)  147584      activation_258[0][0]             \n",
      "__________________________________________________________________________________________________\n",
      "bn3a_branch2b (BatchNormalizati (None, 13, 13, 128)  512         res3a_branch2b[0][0]             \n",
      "__________________________________________________________________________________________________\n",
      "activation_259 (Activation)     (None, 13, 13, 128)  0           bn3a_branch2b[0][0]              \n",
      "__________________________________________________________________________________________________\n",
      "res3a_branch2c (Conv2D)         (None, 13, 13, 512)  66048       activation_259[0][0]             \n",
      "__________________________________________________________________________________________________\n",
      "res3a_branch1 (Conv2D)          (None, 13, 13, 512)  131584      activation_257[0][0]             \n",
      "__________________________________________________________________________________________________\n",
      "bn3a_branch2c (BatchNormalizati (None, 13, 13, 512)  2048        res3a_branch2c[0][0]             \n",
      "__________________________________________________________________________________________________\n",
      "bn3a_branch1 (BatchNormalizatio (None, 13, 13, 512)  2048        res3a_branch1[0][0]              \n",
      "__________________________________________________________________________________________________\n",
      "add_84 (Add)                    (None, 13, 13, 512)  0           bn3a_branch2c[0][0]              \n",
      "                                                                 bn3a_branch1[0][0]               \n",
      "__________________________________________________________________________________________________\n",
      "activation_260 (Activation)     (None, 13, 13, 512)  0           add_84[0][0]                     \n",
      "__________________________________________________________________________________________________\n",
      "res3b_branch2a (Conv2D)         (None, 13, 13, 128)  65664       activation_260[0][0]             \n",
      "__________________________________________________________________________________________________\n",
      "bn3b_branch2a (BatchNormalizati (None, 13, 13, 128)  512         res3b_branch2a[0][0]             \n",
      "__________________________________________________________________________________________________\n",
      "activation_261 (Activation)     (None, 13, 13, 128)  0           bn3b_branch2a[0][0]              \n",
      "__________________________________________________________________________________________________\n",
      "res3b_branch2b (Conv2D)         (None, 13, 13, 128)  147584      activation_261[0][0]             \n",
      "__________________________________________________________________________________________________\n",
      "bn3b_branch2b (BatchNormalizati (None, 13, 13, 128)  512         res3b_branch2b[0][0]             \n",
      "__________________________________________________________________________________________________\n",
      "activation_262 (Activation)     (None, 13, 13, 128)  0           bn3b_branch2b[0][0]              \n",
      "__________________________________________________________________________________________________\n",
      "res3b_branch2c (Conv2D)         (None, 13, 13, 512)  66048       activation_262[0][0]             \n",
      "__________________________________________________________________________________________________\n",
      "bn3b_branch2c (BatchNormalizati (None, 13, 13, 512)  2048        res3b_branch2c[0][0]             \n",
      "__________________________________________________________________________________________________\n",
      "add_85 (Add)                    (None, 13, 13, 512)  0           bn3b_branch2c[0][0]              \n",
      "                                                                 activation_260[0][0]             \n",
      "__________________________________________________________________________________________________\n",
      "activation_263 (Activation)     (None, 13, 13, 512)  0           add_85[0][0]                     \n",
      "__________________________________________________________________________________________________\n",
      "res3c_branch2a (Conv2D)         (None, 13, 13, 128)  65664       activation_263[0][0]             \n",
      "__________________________________________________________________________________________________\n",
      "bn3c_branch2a (BatchNormalizati (None, 13, 13, 128)  512         res3c_branch2a[0][0]             \n",
      "__________________________________________________________________________________________________\n",
      "activation_264 (Activation)     (None, 13, 13, 128)  0           bn3c_branch2a[0][0]              \n",
      "__________________________________________________________________________________________________\n",
      "res3c_branch2b (Conv2D)         (None, 13, 13, 128)  147584      activation_264[0][0]             \n",
      "__________________________________________________________________________________________________\n",
      "bn3c_branch2b (BatchNormalizati (None, 13, 13, 128)  512         res3c_branch2b[0][0]             \n",
      "__________________________________________________________________________________________________\n",
      "activation_265 (Activation)     (None, 13, 13, 128)  0           bn3c_branch2b[0][0]              \n",
      "__________________________________________________________________________________________________\n",
      "res3c_branch2c (Conv2D)         (None, 13, 13, 512)  66048       activation_265[0][0]             \n",
      "__________________________________________________________________________________________________\n",
      "bn3c_branch2c (BatchNormalizati (None, 13, 13, 512)  2048        res3c_branch2c[0][0]             \n",
      "__________________________________________________________________________________________________\n",
      "add_86 (Add)                    (None, 13, 13, 512)  0           bn3c_branch2c[0][0]              \n",
      "                                                                 activation_263[0][0]             \n",
      "__________________________________________________________________________________________________\n",
      "activation_266 (Activation)     (None, 13, 13, 512)  0           add_86[0][0]                     \n",
      "__________________________________________________________________________________________________\n",
      "res3d_branch2a (Conv2D)         (None, 13, 13, 128)  65664       activation_266[0][0]             \n",
      "__________________________________________________________________________________________________\n",
      "bn3d_branch2a (BatchNormalizati (None, 13, 13, 128)  512         res3d_branch2a[0][0]             \n",
      "__________________________________________________________________________________________________\n",
      "activation_267 (Activation)     (None, 13, 13, 128)  0           bn3d_branch2a[0][0]              \n",
      "__________________________________________________________________________________________________\n",
      "res3d_branch2b (Conv2D)         (None, 13, 13, 128)  147584      activation_267[0][0]             \n",
      "__________________________________________________________________________________________________\n",
      "bn3d_branch2b (BatchNormalizati (None, 13, 13, 128)  512         res3d_branch2b[0][0]             \n",
      "__________________________________________________________________________________________________\n",
      "activation_268 (Activation)     (None, 13, 13, 128)  0           bn3d_branch2b[0][0]              \n",
      "__________________________________________________________________________________________________\n",
      "res3d_branch2c (Conv2D)         (None, 13, 13, 512)  66048       activation_268[0][0]             \n",
      "__________________________________________________________________________________________________\n",
      "bn3d_branch2c (BatchNormalizati (None, 13, 13, 512)  2048        res3d_branch2c[0][0]             \n",
      "__________________________________________________________________________________________________\n",
      "add_87 (Add)                    (None, 13, 13, 512)  0           bn3d_branch2c[0][0]              \n",
      "                                                                 activation_266[0][0]             \n",
      "__________________________________________________________________________________________________\n",
      "activation_269 (Activation)     (None, 13, 13, 512)  0           add_87[0][0]                     \n",
      "__________________________________________________________________________________________________\n",
      "res4a_branch2a (Conv2D)         (None, 7, 7, 256)    131328      activation_269[0][0]             \n",
      "__________________________________________________________________________________________________\n",
      "bn4a_branch2a (BatchNormalizati (None, 7, 7, 256)    1024        res4a_branch2a[0][0]             \n",
      "__________________________________________________________________________________________________\n",
      "activation_270 (Activation)     (None, 7, 7, 256)    0           bn4a_branch2a[0][0]              \n",
      "__________________________________________________________________________________________________\n",
      "res4a_branch2b (Conv2D)         (None, 7, 7, 256)    590080      activation_270[0][0]             \n",
      "__________________________________________________________________________________________________\n",
      "bn4a_branch2b (BatchNormalizati (None, 7, 7, 256)    1024        res4a_branch2b[0][0]             \n",
      "__________________________________________________________________________________________________\n",
      "activation_271 (Activation)     (None, 7, 7, 256)    0           bn4a_branch2b[0][0]              \n",
      "__________________________________________________________________________________________________\n",
      "res4a_branch2c (Conv2D)         (None, 7, 7, 1024)   263168      activation_271[0][0]             \n",
      "__________________________________________________________________________________________________\n",
      "res4a_branch1 (Conv2D)          (None, 7, 7, 1024)   525312      activation_269[0][0]             \n",
      "__________________________________________________________________________________________________\n",
      "bn4a_branch2c (BatchNormalizati (None, 7, 7, 1024)   4096        res4a_branch2c[0][0]             \n",
      "__________________________________________________________________________________________________\n",
      "bn4a_branch1 (BatchNormalizatio (None, 7, 7, 1024)   4096        res4a_branch1[0][0]              \n",
      "__________________________________________________________________________________________________\n",
      "add_88 (Add)                    (None, 7, 7, 1024)   0           bn4a_branch2c[0][0]              \n",
      "                                                                 bn4a_branch1[0][0]               \n",
      "__________________________________________________________________________________________________\n",
      "activation_272 (Activation)     (None, 7, 7, 1024)   0           add_88[0][0]                     \n",
      "__________________________________________________________________________________________________\n",
      "res4b_branch2a (Conv2D)         (None, 7, 7, 256)    262400      activation_272[0][0]             \n",
      "__________________________________________________________________________________________________\n",
      "bn4b_branch2a (BatchNormalizati (None, 7, 7, 256)    1024        res4b_branch2a[0][0]             \n",
      "__________________________________________________________________________________________________\n",
      "activation_273 (Activation)     (None, 7, 7, 256)    0           bn4b_branch2a[0][0]              \n",
      "__________________________________________________________________________________________________\n",
      "res4b_branch2b (Conv2D)         (None, 7, 7, 256)    590080      activation_273[0][0]             \n",
      "__________________________________________________________________________________________________\n",
      "bn4b_branch2b (BatchNormalizati (None, 7, 7, 256)    1024        res4b_branch2b[0][0]             \n",
      "__________________________________________________________________________________________________\n",
      "activation_274 (Activation)     (None, 7, 7, 256)    0           bn4b_branch2b[0][0]              \n",
      "__________________________________________________________________________________________________\n",
      "res4b_branch2c (Conv2D)         (None, 7, 7, 1024)   263168      activation_274[0][0]             \n",
      "__________________________________________________________________________________________________\n",
      "bn4b_branch2c (BatchNormalizati (None, 7, 7, 1024)   4096        res4b_branch2c[0][0]             \n",
      "__________________________________________________________________________________________________\n",
      "add_89 (Add)                    (None, 7, 7, 1024)   0           bn4b_branch2c[0][0]              \n",
      "                                                                 activation_272[0][0]             \n",
      "__________________________________________________________________________________________________\n",
      "activation_275 (Activation)     (None, 7, 7, 1024)   0           add_89[0][0]                     \n",
      "__________________________________________________________________________________________________\n",
      "res4c_branch2a (Conv2D)         (None, 7, 7, 256)    262400      activation_275[0][0]             \n",
      "__________________________________________________________________________________________________\n",
      "bn4c_branch2a (BatchNormalizati (None, 7, 7, 256)    1024        res4c_branch2a[0][0]             \n",
      "__________________________________________________________________________________________________\n",
      "activation_276 (Activation)     (None, 7, 7, 256)    0           bn4c_branch2a[0][0]              \n",
      "__________________________________________________________________________________________________\n",
      "res4c_branch2b (Conv2D)         (None, 7, 7, 256)    590080      activation_276[0][0]             \n",
      "__________________________________________________________________________________________________\n",
      "bn4c_branch2b (BatchNormalizati (None, 7, 7, 256)    1024        res4c_branch2b[0][0]             \n",
      "__________________________________________________________________________________________________\n",
      "activation_277 (Activation)     (None, 7, 7, 256)    0           bn4c_branch2b[0][0]              \n",
      "__________________________________________________________________________________________________\n",
      "res4c_branch2c (Conv2D)         (None, 7, 7, 1024)   263168      activation_277[0][0]             \n",
      "__________________________________________________________________________________________________\n",
      "bn4c_branch2c (BatchNormalizati (None, 7, 7, 1024)   4096        res4c_branch2c[0][0]             \n",
      "__________________________________________________________________________________________________\n",
      "add_90 (Add)                    (None, 7, 7, 1024)   0           bn4c_branch2c[0][0]              \n",
      "                                                                 activation_275[0][0]             \n",
      "__________________________________________________________________________________________________\n",
      "activation_278 (Activation)     (None, 7, 7, 1024)   0           add_90[0][0]                     \n",
      "__________________________________________________________________________________________________\n",
      "res4d_branch2a (Conv2D)         (None, 7, 7, 256)    262400      activation_278[0][0]             \n",
      "__________________________________________________________________________________________________\n",
      "bn4d_branch2a (BatchNormalizati (None, 7, 7, 256)    1024        res4d_branch2a[0][0]             \n",
      "__________________________________________________________________________________________________\n",
      "activation_279 (Activation)     (None, 7, 7, 256)    0           bn4d_branch2a[0][0]              \n",
      "__________________________________________________________________________________________________\n",
      "res4d_branch2b (Conv2D)         (None, 7, 7, 256)    590080      activation_279[0][0]             \n",
      "__________________________________________________________________________________________________\n",
      "bn4d_branch2b (BatchNormalizati (None, 7, 7, 256)    1024        res4d_branch2b[0][0]             \n",
      "__________________________________________________________________________________________________\n",
      "activation_280 (Activation)     (None, 7, 7, 256)    0           bn4d_branch2b[0][0]              \n",
      "__________________________________________________________________________________________________\n",
      "res4d_branch2c (Conv2D)         (None, 7, 7, 1024)   263168      activation_280[0][0]             \n",
      "__________________________________________________________________________________________________\n",
      "bn4d_branch2c (BatchNormalizati (None, 7, 7, 1024)   4096        res4d_branch2c[0][0]             \n",
      "__________________________________________________________________________________________________\n",
      "add_91 (Add)                    (None, 7, 7, 1024)   0           bn4d_branch2c[0][0]              \n",
      "                                                                 activation_278[0][0]             \n",
      "__________________________________________________________________________________________________\n",
      "activation_281 (Activation)     (None, 7, 7, 1024)   0           add_91[0][0]                     \n",
      "__________________________________________________________________________________________________\n",
      "res4e_branch2a (Conv2D)         (None, 7, 7, 256)    262400      activation_281[0][0]             \n",
      "__________________________________________________________________________________________________\n",
      "bn4e_branch2a (BatchNormalizati (None, 7, 7, 256)    1024        res4e_branch2a[0][0]             \n",
      "__________________________________________________________________________________________________\n",
      "activation_282 (Activation)     (None, 7, 7, 256)    0           bn4e_branch2a[0][0]              \n",
      "__________________________________________________________________________________________________\n",
      "res4e_branch2b (Conv2D)         (None, 7, 7, 256)    590080      activation_282[0][0]             \n",
      "__________________________________________________________________________________________________\n",
      "bn4e_branch2b (BatchNormalizati (None, 7, 7, 256)    1024        res4e_branch2b[0][0]             \n",
      "__________________________________________________________________________________________________\n",
      "activation_283 (Activation)     (None, 7, 7, 256)    0           bn4e_branch2b[0][0]              \n",
      "__________________________________________________________________________________________________\n",
      "res4e_branch2c (Conv2D)         (None, 7, 7, 1024)   263168      activation_283[0][0]             \n",
      "__________________________________________________________________________________________________\n",
      "bn4e_branch2c (BatchNormalizati (None, 7, 7, 1024)   4096        res4e_branch2c[0][0]             \n",
      "__________________________________________________________________________________________________\n",
      "add_92 (Add)                    (None, 7, 7, 1024)   0           bn4e_branch2c[0][0]              \n",
      "                                                                 activation_281[0][0]             \n",
      "__________________________________________________________________________________________________\n",
      "activation_284 (Activation)     (None, 7, 7, 1024)   0           add_92[0][0]                     \n",
      "__________________________________________________________________________________________________\n",
      "res4f_branch2a (Conv2D)         (None, 7, 7, 256)    262400      activation_284[0][0]             \n",
      "__________________________________________________________________________________________________\n",
      "bn4f_branch2a (BatchNormalizati (None, 7, 7, 256)    1024        res4f_branch2a[0][0]             \n",
      "__________________________________________________________________________________________________\n",
      "activation_285 (Activation)     (None, 7, 7, 256)    0           bn4f_branch2a[0][0]              \n",
      "__________________________________________________________________________________________________\n",
      "res4f_branch2b (Conv2D)         (None, 7, 7, 256)    590080      activation_285[0][0]             \n",
      "__________________________________________________________________________________________________\n",
      "bn4f_branch2b (BatchNormalizati (None, 7, 7, 256)    1024        res4f_branch2b[0][0]             \n",
      "__________________________________________________________________________________________________\n",
      "activation_286 (Activation)     (None, 7, 7, 256)    0           bn4f_branch2b[0][0]              \n",
      "__________________________________________________________________________________________________\n",
      "res4f_branch2c (Conv2D)         (None, 7, 7, 1024)   263168      activation_286[0][0]             \n",
      "__________________________________________________________________________________________________\n",
      "bn4f_branch2c (BatchNormalizati (None, 7, 7, 1024)   4096        res4f_branch2c[0][0]             \n",
      "__________________________________________________________________________________________________\n",
      "add_93 (Add)                    (None, 7, 7, 1024)   0           bn4f_branch2c[0][0]              \n",
      "                                                                 activation_284[0][0]             \n",
      "__________________________________________________________________________________________________\n",
      "activation_287 (Activation)     (None, 7, 7, 1024)   0           add_93[0][0]                     \n",
      "__________________________________________________________________________________________________\n",
      "res5a_branch2a (Conv2D)         (None, 4, 4, 512)    524800      activation_287[0][0]             \n",
      "__________________________________________________________________________________________________\n",
      "bn5a_branch2a (BatchNormalizati (None, 4, 4, 512)    2048        res5a_branch2a[0][0]             \n",
      "__________________________________________________________________________________________________\n",
      "activation_288 (Activation)     (None, 4, 4, 512)    0           bn5a_branch2a[0][0]              \n",
      "__________________________________________________________________________________________________\n",
      "res5a_branch2b (Conv2D)         (None, 4, 4, 512)    2359808     activation_288[0][0]             \n",
      "__________________________________________________________________________________________________\n",
      "bn5a_branch2b (BatchNormalizati (None, 4, 4, 512)    2048        res5a_branch2b[0][0]             \n",
      "__________________________________________________________________________________________________\n",
      "activation_289 (Activation)     (None, 4, 4, 512)    0           bn5a_branch2b[0][0]              \n",
      "__________________________________________________________________________________________________\n",
      "res5a_branch2c (Conv2D)         (None, 4, 4, 2048)   1050624     activation_289[0][0]             \n",
      "__________________________________________________________________________________________________\n",
      "res5a_branch1 (Conv2D)          (None, 4, 4, 2048)   2099200     activation_287[0][0]             \n",
      "__________________________________________________________________________________________________\n",
      "bn5a_branch2c (BatchNormalizati (None, 4, 4, 2048)   8192        res5a_branch2c[0][0]             \n",
      "__________________________________________________________________________________________________\n",
      "bn5a_branch1 (BatchNormalizatio (None, 4, 4, 2048)   8192        res5a_branch1[0][0]              \n",
      "__________________________________________________________________________________________________\n",
      "add_94 (Add)                    (None, 4, 4, 2048)   0           bn5a_branch2c[0][0]              \n",
      "                                                                 bn5a_branch1[0][0]               \n",
      "__________________________________________________________________________________________________\n",
      "activation_290 (Activation)     (None, 4, 4, 2048)   0           add_94[0][0]                     \n",
      "__________________________________________________________________________________________________\n",
      "res5b_branch2a (Conv2D)         (None, 4, 4, 512)    1049088     activation_290[0][0]             \n",
      "__________________________________________________________________________________________________\n",
      "bn5b_branch2a (BatchNormalizati (None, 4, 4, 512)    2048        res5b_branch2a[0][0]             \n",
      "__________________________________________________________________________________________________\n",
      "activation_291 (Activation)     (None, 4, 4, 512)    0           bn5b_branch2a[0][0]              \n",
      "__________________________________________________________________________________________________\n",
      "res5b_branch2b (Conv2D)         (None, 4, 4, 512)    2359808     activation_291[0][0]             \n",
      "__________________________________________________________________________________________________\n",
      "bn5b_branch2b (BatchNormalizati (None, 4, 4, 512)    2048        res5b_branch2b[0][0]             \n",
      "__________________________________________________________________________________________________\n",
      "activation_292 (Activation)     (None, 4, 4, 512)    0           bn5b_branch2b[0][0]              \n",
      "__________________________________________________________________________________________________\n",
      "res5b_branch2c (Conv2D)         (None, 4, 4, 2048)   1050624     activation_292[0][0]             \n",
      "__________________________________________________________________________________________________\n",
      "bn5b_branch2c (BatchNormalizati (None, 4, 4, 2048)   8192        res5b_branch2c[0][0]             \n",
      "__________________________________________________________________________________________________\n",
      "add_95 (Add)                    (None, 4, 4, 2048)   0           bn5b_branch2c[0][0]              \n",
      "                                                                 activation_290[0][0]             \n",
      "__________________________________________________________________________________________________\n",
      "activation_293 (Activation)     (None, 4, 4, 2048)   0           add_95[0][0]                     \n",
      "__________________________________________________________________________________________________\n",
      "res5c_branch2a (Conv2D)         (None, 4, 4, 512)    1049088     activation_293[0][0]             \n",
      "__________________________________________________________________________________________________\n",
      "bn5c_branch2a (BatchNormalizati (None, 4, 4, 512)    2048        res5c_branch2a[0][0]             \n",
      "__________________________________________________________________________________________________\n",
      "activation_294 (Activation)     (None, 4, 4, 512)    0           bn5c_branch2a[0][0]              \n",
      "__________________________________________________________________________________________________\n",
      "res5c_branch2b (Conv2D)         (None, 4, 4, 512)    2359808     activation_294[0][0]             \n",
      "__________________________________________________________________________________________________\n",
      "bn5c_branch2b (BatchNormalizati (None, 4, 4, 512)    2048        res5c_branch2b[0][0]             \n",
      "__________________________________________________________________________________________________\n",
      "activation_295 (Activation)     (None, 4, 4, 512)    0           bn5c_branch2b[0][0]              \n",
      "__________________________________________________________________________________________________\n",
      "res5c_branch2c (Conv2D)         (None, 4, 4, 2048)   1050624     activation_295[0][0]             \n",
      "__________________________________________________________________________________________________\n",
      "bn5c_branch2c (BatchNormalizati (None, 4, 4, 2048)   8192        res5c_branch2c[0][0]             \n",
      "__________________________________________________________________________________________________\n",
      "add_96 (Add)                    (None, 4, 4, 2048)   0           bn5c_branch2c[0][0]              \n",
      "                                                                 activation_293[0][0]             \n",
      "__________________________________________________________________________________________________\n",
      "activation_296 (Activation)     (None, 4, 4, 2048)   0           add_96[0][0]                     \n",
      "__________________________________________________________________________________________________\n",
      "flatten_7 (Flatten)             (None, 32768)        0           activation_296[0][0]             \n",
      "__________________________________________________________________________________________________\n",
      "dense_43 (Dense)                (None, 1024)         33555456    flatten_7[0][0]                  \n",
      "__________________________________________________________________________________________________\n",
      "dropout_19 (Dropout)            (None, 1024)         0           dense_43[0][0]                   \n",
      "__________________________________________________________________________________________________\n",
      "dense_44 (Dense)                (None, 1024)         1049600     dropout_19[0][0]                 \n",
      "__________________________________________________________________________________________________\n",
      "dropout_20 (Dropout)            (None, 1024)         0           dense_44[0][0]                   \n",
      "__________________________________________________________________________________________________\n",
      "dense_45 (Dense)                (None, 5005)         5130125     dropout_20[0][0]                 \n",
      "==================================================================================================\n",
      "Total params: 63,322,893\n",
      "Trainable params: 39,735,181\n",
      "Non-trainable params: 23,587,712\n",
      "__________________________________________________________________________________________________\n",
      "None\n"
     ]
    }
   ],
   "source": [
    "#print(train_Resnet50.shape[1:])\n",
    "#print(X.shape)\n",
    "#print(\"Resnet Model: \")\n",
    "#model = resnet_model(train_Resnet50)\n",
    "#print(\"mobile Net Model: \")\n",
    "#model = mobilenet_model()\n",
    "model = resnet50_model()\n",
    "#model = CNN_Simple()\n",
    "\n",
    "resumetraining = False\n",
    "if resumetraining:\n",
    "    model = load_model('historyresnet50.h5')\n",
    "\n"
   ]
  },
  {
   "cell_type": "code",
   "execution_count": 84,
   "metadata": {},
   "outputs": [
    {
     "name": "stdout",
     "output_type": "stream",
     "text": [
      "Epoch 1/30\n",
      "202/202 [==============================] - 698s 3s/step - loss: 9.9805 - acc: 0.3808\n",
      "Epoch 2/30\n",
      "202/202 [==============================] - 688s 3s/step - loss: 9.9847 - acc: 0.3805\n",
      "Epoch 3/30\n",
      "202/202 [==============================] - 688s 3s/step - loss: 9.9771 - acc: 0.3810\n",
      "Epoch 4/30\n",
      "202/202 [==============================] - 689s 3s/step - loss: 9.9753 - acc: 0.3811\n",
      "Epoch 5/30\n",
      "202/202 [==============================] - 691s 3s/step - loss: 9.9851 - acc: 0.3805\n",
      "Epoch 6/30\n",
      "202/202 [==============================] - 690s 3s/step - loss: 9.9638 - acc: 0.3818\n",
      "Epoch 7/30\n",
      "202/202 [==============================] - 688s 3s/step - loss: 10.0001 - acc: 0.3796\n",
      "Epoch 8/30\n",
      "202/202 [==============================] - 687s 3s/step - loss: 9.9690 - acc: 0.3815\n",
      "Epoch 9/30\n",
      "202/202 [==============================] - 687s 3s/step - loss: 9.9723 - acc: 0.3813\n",
      "Epoch 10/30\n",
      "202/202 [==============================] - 687s 3s/step - loss: 10.0127 - acc: 0.3788\n",
      "Epoch 11/30\n",
      "202/202 [==============================] - 687s 3s/step - loss: 9.9752 - acc: 0.3811\n",
      "Epoch 12/30\n",
      "202/202 [==============================] - 686s 3s/step - loss: 9.9455 - acc: 0.3830\n",
      "Epoch 13/30\n",
      "202/202 [==============================] - 689s 3s/step - loss: 10.0033 - acc: 0.3794\n",
      "Epoch 14/30\n",
      "202/202 [==============================] - 688s 3s/step - loss: 9.9628 - acc: 0.3819\n",
      "Epoch 15/30\n",
      "202/202 [==============================] - 687s 3s/step - loss: 9.9697 - acc: 0.3815\n",
      "Epoch 16/30\n",
      "202/202 [==============================] - 688s 3s/step - loss: 10.0126 - acc: 0.3788\n",
      "Epoch 17/30\n",
      "202/202 [==============================] - 689s 3s/step - loss: 9.9806 - acc: 0.3808\n",
      "Epoch 18/30\n",
      "202/202 [==============================] - 688s 3s/step - loss: 9.9673 - acc: 0.3816\n",
      "Epoch 19/30\n",
      "202/202 [==============================] - 690s 3s/step - loss: 9.9922 - acc: 0.3801\n",
      "Epoch 20/30\n",
      "202/202 [==============================] - 689s 3s/step - loss: 9.9524 - acc: 0.3825\n",
      "Epoch 21/30\n",
      "202/202 [==============================] - 690s 3s/step - loss: 9.9826 - acc: 0.3807\n",
      "Epoch 22/30\n",
      "202/202 [==============================] - 689s 3s/step - loss: 10.0329 - acc: 0.3775\n",
      "Epoch 23/30\n",
      "202/202 [==============================] - 689s 3s/step - loss: 9.9382 - acc: 0.3834\n",
      "Epoch 24/30\n",
      "202/202 [==============================] - 690s 3s/step - loss: 9.9897 - acc: 0.3802\n",
      "Epoch 25/30\n",
      "202/202 [==============================] - 689s 3s/step - loss: 9.9738 - acc: 0.3812\n",
      "Epoch 26/30\n",
      "202/202 [==============================] - 692s 3s/step - loss: 9.9931 - acc: 0.3800\n",
      "Epoch 27/30\n",
      "202/202 [==============================] - 689s 3s/step - loss: 9.9404 - acc: 0.3833\n",
      "Epoch 28/30\n",
      "202/202 [==============================] - 690s 3s/step - loss: 10.0335 - acc: 0.3775\n",
      "Epoch 29/30\n",
      "202/202 [==============================] - 689s 3s/step - loss: 9.9052 - acc: 0.3855\n",
      "Epoch 30/30\n",
      "202/202 [==============================] - 692s 3s/step - loss: 10.0291 - acc: 0.3778\n"
     ]
    },
    {
     "data": {
      "text/plain": [
       "571"
      ]
     },
     "execution_count": 84,
     "metadata": {},
     "output_type": "execute_result"
    }
   ],
   "source": [
    "#history_model = model.fit(X_train, y_train, epochs=5, batch_size=100, verbose=1)\n",
    "history_model = model.fit_generator(datagen.flow(X_train, y_train, batch_size=100),\n",
    "                    steps_per_epoch=len(X_train) / 100, epochs=30)\n",
    "gc.collect()"
   ]
  },
  {
   "cell_type": "code",
   "execution_count": null,
   "metadata": {},
   "outputs": [],
   "source": []
  },
  {
   "cell_type": "markdown",
   "metadata": {},
   "source": [
    "### Save trained Model"
   ]
  },
  {
   "cell_type": "code",
   "execution_count": 85,
   "metadata": {},
   "outputs": [],
   "source": [
    "from keras.models import load_model\n",
    "model.save('historyresnet50.h5')  # creates a HDF5 file 'my_model.h5'\n"
   ]
  },
  {
   "cell_type": "code",
   "execution_count": 25,
   "metadata": {},
   "outputs": [
    {
     "data": {
      "image/png": "[encoded data removed]",
      "text/plain": [
       "<matplotlib.figure.Figure at 0x1eb5779290>"
      ]
     },
     "metadata": {
      "needs_background": "light"
     },
     "output_type": "display_data"
    }
   ],
   "source": [
    "#plt.plot(history.history['acc'])\n",
    "plt.plot(history_model.history['acc'])\n",
    "plt.title('Model accuracy')\n",
    "plt.ylabel('Accuracy')\n",
    "plt.xlabel('Epoch')\n",
    "plt.show()"
   ]
  },
  {
   "cell_type": "code",
   "execution_count": 26,
   "metadata": {},
   "outputs": [
    {
     "name": "stdout",
     "output_type": "stream",
     "text": [
      "5073/5073 [==============================] - 53s 10ms/step\n"
     ]
    }
   ],
   "source": [
    "#predictions = model.predict(np.array(X_test), verbose=1)\n",
    "predictions = mobilenetmodel.predict(np.array(X_test), verbose=1)\n"
   ]
  },
  {
   "cell_type": "code",
   "execution_count": 27,
   "metadata": {},
   "outputs": [],
   "source": [
    "pred_df = copy.copy(train_df)\n",
    "for i, pred in enumerate(predictions):\n",
    "    pred_df.loc[i, 'Id'] = label_encoder.inverse_transform(pred.argsort()[-5:][::-1])"
   ]
  },
  {
   "cell_type": "code",
   "execution_count": 28,
   "metadata": {},
   "outputs": [
    {
     "name": "stdout",
     "output_type": "stream",
     "text": [
      "           Image                                                 Id\n",
      "0  0000e88ab.jpg  [w_ae393cd, w_61b9586, w_c25d2d1, w_6e209a8, w...\n",
      "1  0001f9222.jpg  [new_whale, w_43d4a64, w_00d50c9, w_c82b49f, w...\n",
      "2  00029d126.jpg  [w_17b0d3a, w_f7cd240, w_90c9763, w_bc285a6, w...\n",
      "3  00050a15a.jpg  [w_e5978cf, w_ab44ae4, w_9cc2c36, w_c3d896a, w...\n",
      "4  0005c1ef8.jpg  [new_whale, w_5d6ba39, w_6ca173f, w_c3d896a, w...\n",
      "5  0006e997e.jpg  [w_dd88965, w_5773c71, w_d875f4d, w_6071978, w...\n",
      "6  000a6daec.jpg  [w_5793f1c, w_c55519c, w_2f74ff3, w_6f0cbe3, w...\n",
      "7  000f0f2bf.jpg  [w_63b91aa, w_9b69214, w_5bf792a, w_0baf946, w...\n",
      "8  0016b897a.jpg  [new_whale, w_72c56cc, w_7983f71, w_1b3baf7, w...\n",
      "9  001c1ac5f.jpg  [w_f787e93, w_dc662ea, w_07768b0, w_5a9abcf, w...\n"
     ]
    }
   ],
   "source": [
    "print(pred_df.head(10))\n"
   ]
  },
  {
   "cell_type": "markdown",
   "metadata": {},
   "source": [
    "### Evaluation of Prediction Precision"
   ]
  },
  {
   "cell_type": "code",
   "execution_count": 29,
   "metadata": {},
   "outputs": [],
   "source": [
    "def map_per_image(label, predictions):\n",
    "    \"\"\"Computes the precision score of one image.\n",
    "\n",
    "    Parameters\n",
    "    ----------\n",
    "    label : string\n",
    "            The true label of the image\n",
    "    predictions : list\n",
    "            A list of predicted elements (order does matter, 5 predictions allowed per image)\n",
    "\n",
    "    Returns\n",
    "    -------\n",
    "    score : double\n",
    "    \"\"\"   \n",
    "    score = 0.0\n",
    "    try:\n",
    "        if not len(np.where(predictions == label)[0])==0:\n",
    "            score =  1.0/(float(np.where(predictions == label)[0]) + 1)\n",
    "            return score\n",
    "        else:\n",
    "            return 0.\n",
    "            \n",
    "    except ValueError:\n",
    "        return 0.0\n",
    "\n",
    "def map_per_set(labels, predictions):\n",
    "    \"\"\"Computes the average over multiple images.\n",
    "\n",
    "    Parameters\n",
    "    ----------\n",
    "    labels : list\n",
    "             A list of the true labels. (Only one true label per images allowed!)\n",
    "    predictions : list of list\n",
    "             A list of predicted elements (order does matter, 5 predictions allowed per image)\n",
    "\n",
    "    Returns\n",
    "    -------\n",
    "    score : double\n",
    "    \"\"\"\n",
    "    return np.mean([map_per_image(l, p) for l,p in zip(labels, predictions)])\n"
   ]
  },
  {
   "cell_type": "code",
   "execution_count": 30,
   "metadata": {},
   "outputs": [],
   "source": [
    "totalaccuracy = 0.\n",
    "totalaccuracy = map_per_set(train_df['Id'],pred_df['Id'])"
   ]
  },
  {
   "cell_type": "code",
   "execution_count": 31,
   "metadata": {},
   "outputs": [
    {
     "name": "stdout",
     "output_type": "stream",
     "text": [
      "0.830962895785\n"
     ]
    }
   ],
   "source": [
    "print(totalaccuracy)"
   ]
  },
  {
   "cell_type": "markdown",
   "metadata": {},
   "source": [
    "### Create submission.csv (not in use for Udacity Capstone project, but created anyway)"
   ]
  },
  {
   "cell_type": "code",
   "execution_count": 32,
   "metadata": {},
   "outputs": [],
   "source": [
    "#pred_df.to_csv('submission.csv', index=False)"
   ]
  },
  {
   "cell_type": "markdown",
   "metadata": {},
   "source": [
    "### Predict for Testdata"
   ]
  },
  {
   "cell_type": "code",
   "execution_count": 33,
   "metadata": {},
   "outputs": [
    {
     "name": "stdout",
     "output_type": "stream",
     "text": [
      "7960\n"
     ]
    }
   ],
   "source": [
    "test = os.listdir(datadir+\"/test/\")\n",
    "print(len(test))"
   ]
  },
  {
   "cell_type": "code",
   "execution_count": 34,
   "metadata": {},
   "outputs": [],
   "source": [
    "col = ['Image']\n",
    "test_df = pd.DataFrame(test, columns=col)\n",
    "test_df['Id'] = ''"
   ]
  },
  {
   "cell_type": "code",
   "execution_count": 35,
   "metadata": {},
   "outputs": [
    {
     "name": "stdout",
     "output_type": "stream",
     "text": [
      "Preparing images\n",
      "('Processing image: ', 1, ', ', 'd25be2116.jpg')\n",
      "('Processing image: ', 501, ', ', 'ecf335309.jpg')\n",
      "('Processing image: ', 1001, ', ', '549ddf793.jpg')\n",
      "('Processing image: ', 1501, ', ', '1459de372.jpg')\n",
      "('Processing image: ', 2001, ', ', '59e6e5011.jpg')\n",
      "('Processing image: ', 2501, ', ', 'f9293c32b.jpg')\n",
      "('Processing image: ', 3001, ', ', '7fdc46c0e.jpg')\n",
      "('Processing image: ', 3501, ', ', 'e0421d14a.jpg')\n",
      "('Processing image: ', 4001, ', ', 'bc03470dc.jpg')\n",
      "('Processing image: ', 4501, ', ', '48fa5169f.jpg')\n",
      "('Processing image: ', 5001, ', ', 'b09d98273.jpg')\n",
      "('Processing image: ', 5501, ', ', 'e6071c71f.jpg')\n",
      "('Processing image: ', 6001, ', ', '9aefd155f.jpg')\n",
      "('Processing image: ', 6501, ', ', 'cf91564b8.jpg')\n",
      "('Processing image: ', 7001, ', ', '82f45e027.jpg')\n",
      "('Processing image: ', 7501, ', ', '165c7bf64.jpg')\n"
     ]
    }
   ],
   "source": [
    "X = prepareImages(test_df, test_df.shape[0], \"test\")\n",
    "X /= 255"
   ]
  },
  {
   "cell_type": "code",
   "execution_count": 36,
   "metadata": {},
   "outputs": [
    {
     "name": "stdout",
     "output_type": "stream",
     "text": [
      "7960/7960 [==============================] - 82s 10ms/step\n"
     ]
    }
   ],
   "source": [
    "#predictions = model.predict(np.array(X), verbose=1)\n",
    "predictions = model.predict(np.array(X), verbose=1)\n"
   ]
  },
  {
   "cell_type": "code",
   "execution_count": 37,
   "metadata": {},
   "outputs": [],
   "source": [
    "for i, pred in enumerate(predictions):\n",
    "    test_df.loc[i, 'Id'] = ' '.join(label_encoder.inverse_transform(pred.argsort()[-5:][::-1]))"
   ]
  },
  {
   "cell_type": "code",
   "execution_count": 38,
   "metadata": {},
   "outputs": [],
   "source": [
    "test_df.head(10)\n",
    "test_df.to_csv('submission.csv', index=False)"
   ]
  },
  {
   "cell_type": "code",
   "execution_count": null,
   "metadata": {},
   "outputs": [],
   "source": []
  }
 ],
 "metadata": {
  "kernelspec": {
   "display_name": "humpbackwhale",
   "language": "python",
   "name": "humpbackwhale"
  },
  "language_info": {
   "codemirror_mode": {
    "name": "ipython",
    "version": 2
   },
   "file_extension": ".py",
   "mimetype": "text/x-python",
   "name": "python",
   "nbconvert_exporter": "python",
   "pygments_lexer": "ipython2",
   "version": "2.7.16"
  }
 },
 "nbformat": 4,
 "nbformat_minor": 2
}
