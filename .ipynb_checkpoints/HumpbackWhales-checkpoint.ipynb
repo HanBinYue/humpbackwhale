{
 "cells": [
  {
   "cell_type": "markdown",
   "metadata": {},
   "source": [
    "## Imports"
   ]
  },
  {
   "cell_type": "code",
   "execution_count": 1,
   "metadata": {},
   "outputs": [
    {
     "name": "stderr",
     "output_type": "stream",
     "text": [
      "Using TensorFlow backend.\n"
     ]
    }
   ],
   "source": [
    "import numpy as np \n",
    "import pandas as pd \n",
    "import os\n",
    "import gc\n",
    "import copy\n",
    "import matplotlib.pyplot as plt\n",
    "import matplotlib.image as mplimg\n",
    "from matplotlib.pyplot import imshow\n",
    "\n",
    "from sklearn.preprocessing import LabelEncoder\n",
    "from sklearn.preprocessing import OneHotEncoder\n",
    "\n",
    "from keras import layers\n",
    "from keras.preprocessing import image\n",
    "from keras.applications.imagenet_utils import preprocess_input\n",
    "from keras.layers import Input, Dense, Activation, BatchNormalization, Flatten, Conv2D\n",
    "from keras.layers import AveragePooling2D, MaxPooling2D, Dropout, GlobalAveragePooling2D\n",
    "from keras.models import Model\n",
    "from keras.applications.resnet50 import preprocess_input, decode_predictions\n",
    "\n",
    "import keras.backend as K\n",
    "from keras.models import Sequential\n",
    "\n",
    "import warnings\n",
    "warnings.simplefilter(\"ignore\", category=DeprecationWarning)"
   ]
  },
  {
   "cell_type": "markdown",
   "metadata": {},
   "source": [
    "## Set Data path"
   ]
  },
  {
   "cell_type": "code",
   "execution_count": 2,
   "metadata": {},
   "outputs": [
    {
     "data": {
      "text/plain": [
       "['.DS_Store',\n",
       " 'test',\n",
       " 'data.zip',\n",
       " 'trainexcel.csv',\n",
       " 'train',\n",
       " 'train.csv',\n",
       " 'sample_submission.csv']"
      ]
     },
     "execution_count": 2,
     "metadata": {},
     "output_type": "execute_result"
    }
   ],
   "source": [
    "datadir = os.path.expanduser('~/Dev/humpbackwhale/data')\n",
    "pretrainedmodeldir = os.path.expanduser('~/Dev/humpbackwhale/pretrainedmodels')\n",
    "os.listdir(os.path.expanduser(datadir))"
   ]
  },
  {
   "cell_type": "code",
   "execution_count": 3,
   "metadata": {},
   "outputs": [
    {
     "data": {
      "text/html": [
       "<div>\n",
       "<style scoped>\n",
       "    .dataframe tbody tr th:only-of-type {\n",
       "        vertical-align: middle;\n",
       "    }\n",
       "\n",
       "    .dataframe tbody tr th {\n",
       "        vertical-align: top;\n",
       "    }\n",
       "\n",
       "    .dataframe thead th {\n",
       "        text-align: right;\n",
       "    }\n",
       "</style>\n",
       "<table border=\"1\" class=\"dataframe\">\n",
       "  <thead>\n",
       "    <tr style=\"text-align: right;\">\n",
       "      <th></th>\n",
       "      <th>Image</th>\n",
       "      <th>Id</th>\n",
       "    </tr>\n",
       "  </thead>\n",
       "  <tbody>\n",
       "    <tr>\n",
       "      <th>0</th>\n",
       "      <td>0000e88ab.jpg</td>\n",
       "      <td>w_f48451c</td>\n",
       "    </tr>\n",
       "    <tr>\n",
       "      <th>1</th>\n",
       "      <td>0001f9222.jpg</td>\n",
       "      <td>w_c3d896a</td>\n",
       "    </tr>\n",
       "    <tr>\n",
       "      <th>2</th>\n",
       "      <td>00029d126.jpg</td>\n",
       "      <td>w_20df2c5</td>\n",
       "    </tr>\n",
       "    <tr>\n",
       "      <th>3</th>\n",
       "      <td>00050a15a.jpg</td>\n",
       "      <td>new_whale</td>\n",
       "    </tr>\n",
       "    <tr>\n",
       "      <th>4</th>\n",
       "      <td>0005c1ef8.jpg</td>\n",
       "      <td>new_whale</td>\n",
       "    </tr>\n",
       "  </tbody>\n",
       "</table>\n",
       "</div>"
      ],
      "text/plain": [
       "           Image         Id\n",
       "0  0000e88ab.jpg  w_f48451c\n",
       "1  0001f9222.jpg  w_c3d896a\n",
       "2  00029d126.jpg  w_20df2c5\n",
       "3  00050a15a.jpg  new_whale\n",
       "4  0005c1ef8.jpg  new_whale"
      ]
     },
     "execution_count": 3,
     "metadata": {},
     "output_type": "execute_result"
    }
   ],
   "source": [
    "train_df = pd.read_csv(datadir + '/train.csv')\n",
    "#train_df = train_df[:500]\n",
    "train_df.head()"
   ]
  },
  {
   "cell_type": "code",
   "execution_count": 4,
   "metadata": {},
   "outputs": [],
   "source": [
    "def prepareImages(data, m, dataset):\n",
    "    print(\"Preparing images\")\n",
    "    X_train = np.zeros((m, 100, 100, 3))\n",
    "    count = 0\n",
    "    \n",
    "    for fig in data['Image']:\n",
    "        #load images into images of size 100x100x3\n",
    "        img = image.load_img(datadir+\"/\"+dataset+\"/\"+fig, target_size=(100, 100, 3))\n",
    "        x = image.img_to_array(img)\n",
    "        #x = np.expand_dims(x, axis=0)\n",
    "        x = preprocess_input(x)\n",
    "        x = x.astype('float32')/255\n",
    "        X_train[count] = x\n",
    "        if (count%500 == 0):\n",
    "            print(\"Processing image: \", count+1, \", \", fig)\n",
    "        count += 1\n",
    "    \n",
    "    return X_train"
   ]
  },
  {
   "cell_type": "code",
   "execution_count": 5,
   "metadata": {},
   "outputs": [],
   "source": [
    "def prepare_labels(y):\n",
    "    values = np.array(y)\n",
    "    label_encoder = LabelEncoder()\n",
    "    integer_encoded = label_encoder.fit_transform(values)\n",
    "    # print(integer_encoded)\n",
    "\n",
    "    onehot_encoder = OneHotEncoder(sparse=False)\n",
    "    integer_encoded = integer_encoded.reshape(len(integer_encoded), 1)\n",
    "    onehot_encoded = onehot_encoder.fit_transform(integer_encoded)\n",
    "    # print(onehot_encoded)\n",
    "\n",
    "    y = onehot_encoded\n",
    "    # print(y.shape)\n",
    "    return y, label_encoder"
   ]
  },
  {
   "cell_type": "code",
   "execution_count": 6,
   "metadata": {
    "scrolled": true
   },
   "outputs": [
    {
     "name": "stdout",
     "output_type": "stream",
     "text": [
      "Preparing images\n",
      "('Processing image: ', 1, ', ', '0000e88ab.jpg')\n",
      "('Processing image: ', 501, ', ', '04c72257b.jpg')\n",
      "('Processing image: ', 1001, ', ', '09cacb84d.jpg')\n",
      "('Processing image: ', 1501, ', ', '0ef961892.jpg')\n",
      "('Processing image: ', 2001, ', ', '141b56a1a.jpg')\n",
      "('Processing image: ', 2501, ', ', '199a417aa.jpg')\n",
      "('Processing image: ', 3001, ', ', '1ec170983.jpg')\n",
      "('Processing image: ', 3501, ', ', '23f084b93.jpg')\n",
      "('Processing image: ', 4001, ', ', '29163ad0b.jpg')\n",
      "('Processing image: ', 4501, ', ', '2e0fab120.jpg')\n",
      "('Processing image: ', 5001, ', ', '3347515d9.jpg')\n",
      "('Processing image: ', 5501, ', ', '3842d71dc.jpg')\n",
      "('Processing image: ', 6001, ', ', '3d7f4c7d5.jpg')\n",
      "('Processing image: ', 6501, ', ', '425f763ca.jpg')\n",
      "('Processing image: ', 7001, ', ', '4714400cd.jpg')\n",
      "('Processing image: ', 7501, ', ', '4c082fbdf.jpg')\n",
      "('Processing image: ', 8001, ', ', '50c683e23.jpg')\n",
      "('Processing image: ', 8501, ', ', '560d986ad.jpg')\n",
      "('Processing image: ', 9001, ', ', '5b68c83ed.jpg')\n",
      "('Processing image: ', 9501, ', ', '60410f111.jpg')\n",
      "('Processing image: ', 10001, ', ', '654951f81.jpg')\n",
      "('Processing image: ', 10501, ', ', '6a572256c.jpg')\n",
      "('Processing image: ', 11001, ', ', '6f96f55b6.jpg')\n",
      "('Processing image: ', 11501, ', ', '74da2b511.jpg')\n",
      "('Processing image: ', 12001, ', ', '7989d9a27.jpg')\n",
      "('Processing image: ', 12501, ', ', '7e5aa2d8a.jpg')\n",
      "('Processing image: ', 13001, ', ', '832382cfb.jpg')\n",
      "('Processing image: ', 13501, ', ', '87f6c0a15.jpg')\n",
      "('Processing image: ', 14001, ', ', '8cfc22e5d.jpg')\n",
      "('Processing image: ', 14501, ', ', '91dcfedcd.jpg')\n",
      "('Processing image: ', 15001, ', ', '97079398e.jpg')\n",
      "('Processing image: ', 15501, ', ', '9c2ad64a9.jpg')\n",
      "('Processing image: ', 16001, ', ', 'a11956dff.jpg')\n",
      "('Processing image: ', 16501, ', ', 'a5f9ffe86.jpg')\n",
      "('Processing image: ', 17001, ', ', 'aaf1a967b.jpg')\n",
      "('Processing image: ', 17501, ', ', 'af9a1ffc6.jpg')\n",
      "('Processing image: ', 18001, ', ', 'b4e02531d.jpg')\n",
      "('Processing image: ', 18501, ', ', 'ba2355ca6.jpg')\n",
      "('Processing image: ', 19001, ', ', 'bf60e7fed.jpg')\n",
      "('Processing image: ', 19501, ', ', 'c49f39ce3.jpg')\n",
      "('Processing image: ', 20001, ', ', 'c960111d0.jpg')\n",
      "('Processing image: ', 20501, ', ', 'ce7984d8a.jpg')\n",
      "('Processing image: ', 21001, ', ', 'd38efaec9.jpg')\n",
      "('Processing image: ', 21501, ', ', 'd831d28ee.jpg')\n",
      "('Processing image: ', 22001, ', ', 'dd3ca2387.jpg')\n",
      "('Processing image: ', 22501, ', ', 'e288d66cf.jpg')\n",
      "('Processing image: ', 23001, ', ', 'e7cc793db.jpg')\n",
      "('Processing image: ', 23501, ', ', 'ec8c7229d.jpg')\n",
      "('Processing image: ', 24001, ', ', 'f1b850552.jpg')\n",
      "('Processing image: ', 24501, ', ', 'f6af8a4b8.jpg')\n",
      "('Processing image: ', 25001, ', ', 'fc09f2302.jpg')\n"
     ]
    },
    {
     "data": {
      "text/plain": [
       "(25361, 100, 100, 3)"
      ]
     },
     "execution_count": 6,
     "metadata": {},
     "output_type": "execute_result"
    }
   ],
   "source": [
    "X = prepareImages(train_df, train_df.shape[0], \"train\")\n",
    "#X /= 100\n",
    "X.shape"
   ]
  },
  {
   "cell_type": "code",
   "execution_count": 7,
   "metadata": {},
   "outputs": [
    {
     "name": "stderr",
     "output_type": "stream",
     "text": [
      "/Users/marcelschneider/anaconda3/envs/humpbackwhale/lib/python2.7/site-packages/sklearn/preprocessing/_encoders.py:368: FutureWarning: The handling of integer data will change in version 0.22. Currently, the categories are determined based on the range [0, max(values)], while in the future they will be determined based on the unique values.\n",
      "If you want the future behaviour and silence this warning, you can specify \"categories='auto'\".\n",
      "In case you used a LabelEncoder before this OneHotEncoder to convert the categories to integers, then you can now use the OneHotEncoder directly.\n",
      "  warnings.warn(msg, FutureWarning)\n"
     ]
    }
   ],
   "source": [
    "y, label_encoder = prepare_labels(train_df['Id'])\n"
   ]
  },
  {
   "cell_type": "code",
   "execution_count": 8,
   "metadata": {},
   "outputs": [
    {
     "data": {
      "text/plain": [
       "(25361, 5005)"
      ]
     },
     "execution_count": 8,
     "metadata": {},
     "output_type": "execute_result"
    }
   ],
   "source": [
    "y.shape"
   ]
  },
  {
   "cell_type": "code",
   "execution_count": 9,
   "metadata": {},
   "outputs": [],
   "source": [
    "def CNN_Simple(): \n",
    "    model = Sequential()\n",
    "\n",
    "    model.add(Conv2D(32, (7, 7), strides = (1, 1), name = 'conv0', input_shape = (100, 100, 3)))\n",
    "\n",
    "    model.add(BatchNormalization(axis = 3, name = 'bn0'))\n",
    "    model.add(Activation('relu'))\n",
    "\n",
    "    model.add(MaxPooling2D((2, 2), name='max_pool'))\n",
    "    model.add(Conv2D(64, (3, 3), strides = (1,1), name=\"conv1\"))\n",
    "    model.add(Activation('relu'))\n",
    "    model.add(AveragePooling2D((3, 3), name='avg_pool'))\n",
    "\n",
    "    model.add(Flatten())\n",
    "    model.add(Dense(500, activation=\"relu\", name='rl'))\n",
    "    model.add(Dropout(0.8))\n",
    "    model.add(Dense(y.shape[1], activation='softmax', name='sm'))\n",
    "\n",
    "    model.compile(loss='categorical_crossentropy', optimizer=\"adam\", metrics=['accuracy'])\n",
    "    model.summary()\n",
    "    \n",
    "    return model"
   ]
  },
  {
   "cell_type": "markdown",
   "metadata": {},
   "source": [
    "### Transfer Learning"
   ]
  },
  {
   "cell_type": "code",
   "execution_count": 10,
   "metadata": {},
   "outputs": [],
   "source": [
    "bottleneck_features = np.load(pretrainedmodeldir+\"/DogResnet50Data.npz\")\n",
    "train_Resnet50 = bottleneck_features['train']\n",
    "test_Resnet50 = bottleneck_features['test']\n",
    "\n",
    "def resnet_model(trainbottleneckfeatures):\n",
    "    model = Sequential()\n",
    "    \n",
    "    model.add(Conv2D(32, (7, 7), strides = (1, 1), name = 'conv0', input_shape = (100, 100, 3)))\n",
    "\n",
    "    model.add(GlobalAveragePooling2D(input_shape=trainbottleneckfeatures.shape[1:]))\n",
    "    model.add(Dense(500, activation='relu'))\n",
    "    model.add(Dropout(0.5))\n",
    "    model.add(Dense(y.shape[1], activation='softmax', name='sm'))\n",
    "    model.compile(loss='categorical_crossentropy', optimizer=\"adam\", metrics=['accuracy'])\n",
    "    model.summary()\n",
    "    \n",
    "    return model"
   ]
  },
  {
   "cell_type": "code",
   "execution_count": 11,
   "metadata": {},
   "outputs": [
    {
     "name": "stdout",
     "output_type": "stream",
     "text": [
      "(1, 1, 2048)\n",
      "(25361, 100, 100, 3)\n",
      "_________________________________________________________________\n",
      "Layer (type)                 Output Shape              Param #   \n",
      "=================================================================\n",
      "conv0 (Conv2D)               (None, 94, 94, 32)        4736      \n",
      "_________________________________________________________________\n",
      "bn0 (BatchNormalization)     (None, 94, 94, 32)        128       \n",
      "_________________________________________________________________\n",
      "activation_1 (Activation)    (None, 94, 94, 32)        0         \n",
      "_________________________________________________________________\n",
      "max_pool (MaxPooling2D)      (None, 47, 47, 32)        0         \n",
      "_________________________________________________________________\n",
      "conv1 (Conv2D)               (None, 45, 45, 64)        18496     \n",
      "_________________________________________________________________\n",
      "activation_2 (Activation)    (None, 45, 45, 64)        0         \n",
      "_________________________________________________________________\n",
      "avg_pool (AveragePooling2D)  (None, 15, 15, 64)        0         \n",
      "_________________________________________________________________\n",
      "flatten_1 (Flatten)          (None, 14400)             0         \n",
      "_________________________________________________________________\n",
      "rl (Dense)                   (None, 500)               7200500   \n",
      "_________________________________________________________________\n",
      "dropout_1 (Dropout)          (None, 500)               0         \n",
      "_________________________________________________________________\n",
      "sm (Dense)                   (None, 5005)              2507505   \n",
      "=================================================================\n",
      "Total params: 9,731,365\n",
      "Trainable params: 9,731,301\n",
      "Non-trainable params: 64\n",
      "_________________________________________________________________\n",
      "Epoch 1/100\n",
      "25361/25361 [==============================] - 222s 9ms/step - loss: 6.1954 - acc: 0.3794\n",
      "Epoch 2/100\n",
      "25361/25361 [==============================] - 221s 9ms/step - loss: 5.9312 - acc: 0.3811\n",
      "Epoch 3/100\n",
      "25361/25361 [==============================] - 220s 9ms/step - loss: 5.8012 - acc: 0.3811\n",
      "Epoch 4/100\n",
      "25361/25361 [==============================] - 220s 9ms/step - loss: 5.7371 - acc: 0.3811\n",
      "Epoch 5/100\n",
      "25361/25361 [==============================] - 220s 9ms/step - loss: 5.7091 - acc: 0.3811\n",
      "Epoch 6/100\n",
      "25361/25361 [==============================] - 220s 9ms/step - loss: 5.6826 - acc: 0.3811\n",
      "Epoch 7/100\n",
      "25361/25361 [==============================] - 220s 9ms/step - loss: 5.6658 - acc: 0.3811\n",
      "Epoch 8/100\n",
      "25361/25361 [==============================] - 220s 9ms/step - loss: 5.6434 - acc: 0.3811\n",
      "Epoch 9/100\n",
      "25361/25361 [==============================] - 220s 9ms/step - loss: 5.5901 - acc: 0.3811\n",
      "Epoch 10/100\n",
      "25361/25361 [==============================] - 221s 9ms/step - loss: 5.5519 - acc: 0.3811\n",
      "Epoch 11/100\n",
      "25361/25361 [==============================] - 221s 9ms/step - loss: 5.5060 - acc: 0.3811\n",
      "Epoch 12/100\n",
      "25361/25361 [==============================] - 221s 9ms/step - loss: 5.4584 - acc: 0.3811\n",
      "Epoch 13/100\n",
      "25361/25361 [==============================] - 220s 9ms/step - loss: 5.4107 - acc: 0.3811\n",
      "Epoch 14/100\n",
      "25361/25361 [==============================] - 220s 9ms/step - loss: 5.3527 - acc: 0.3811\n",
      "Epoch 15/100\n",
      "25361/25361 [==============================] - 220s 9ms/step - loss: 5.2692 - acc: 0.3811\n",
      "Epoch 16/100\n",
      "25361/25361 [==============================] - 220s 9ms/step - loss: 5.1883 - acc: 0.3811\n",
      "Epoch 17/100\n",
      "25361/25361 [==============================] - 220s 9ms/step - loss: 5.0881 - acc: 0.3811\n",
      "Epoch 18/100\n",
      "25361/25361 [==============================] - 220s 9ms/step - loss: 4.9834 - acc: 0.3811\n",
      "Epoch 19/100\n",
      "25361/25361 [==============================] - 220s 9ms/step - loss: 4.8523 - acc: 0.3811\n",
      "Epoch 20/100\n",
      "25361/25361 [==============================] - 220s 9ms/step - loss: 4.7117 - acc: 0.3817\n",
      "Epoch 21/100\n",
      "25361/25361 [==============================] - 220s 9ms/step - loss: 4.5622 - acc: 0.3817\n",
      "Epoch 22/100\n",
      "25361/25361 [==============================] - 220s 9ms/step - loss: 4.3729 - acc: 0.3838\n",
      "Epoch 23/100\n",
      "25361/25361 [==============================] - 221s 9ms/step - loss: 4.1847 - acc: 0.3872\n",
      "Epoch 24/100\n",
      "25361/25361 [==============================] - 221s 9ms/step - loss: 3.9830 - acc: 0.3922\n",
      "Epoch 25/100\n",
      "25361/25361 [==============================] - 221s 9ms/step - loss: 3.7646 - acc: 0.3999\n",
      "Epoch 26/100\n",
      "25361/25361 [==============================] - 221s 9ms/step - loss: 3.5658 - acc: 0.4086\n",
      "Epoch 27/100\n",
      "25361/25361 [==============================] - 221s 9ms/step - loss: 3.3629 - acc: 0.4245\n",
      "Epoch 28/100\n",
      "25361/25361 [==============================] - 220s 9ms/step - loss: 3.1400 - acc: 0.4369\n",
      "Epoch 29/100\n",
      "25361/25361 [==============================] - 221s 9ms/step - loss: 2.9563 - acc: 0.4522\n",
      "Epoch 30/100\n",
      "25361/25361 [==============================] - 220s 9ms/step - loss: 2.7854 - acc: 0.4695\n",
      "Epoch 31/100\n",
      "25361/25361 [==============================] - 221s 9ms/step - loss: 2.6210 - acc: 0.4840\n",
      "Epoch 32/100\n",
      "25361/25361 [==============================] - 221s 9ms/step - loss: 2.4960 - acc: 0.4979\n",
      "Epoch 33/100\n",
      "25361/25361 [==============================] - 221s 9ms/step - loss: 2.2945 - acc: 0.5235\n",
      "Epoch 34/100\n",
      "25361/25361 [==============================] - 221s 9ms/step - loss: 2.1894 - acc: 0.5364\n",
      "Epoch 35/100\n",
      "25361/25361 [==============================] - 221s 9ms/step - loss: 2.0255 - acc: 0.5612\n",
      "Epoch 36/100\n",
      "25361/25361 [==============================] - 221s 9ms/step - loss: 1.9355 - acc: 0.5773\n",
      "Epoch 37/100\n",
      "25361/25361 [==============================] - 221s 9ms/step - loss: 1.8302 - acc: 0.5953\n",
      "Epoch 38/100\n",
      "25361/25361 [==============================] - 221s 9ms/step - loss: 1.7430 - acc: 0.6081\n",
      "Epoch 39/100\n",
      "25361/25361 [==============================] - 221s 9ms/step - loss: 1.6617 - acc: 0.6193\n",
      "Epoch 40/100\n",
      "25361/25361 [==============================] - 221s 9ms/step - loss: 1.5735 - acc: 0.6363\n",
      "Epoch 41/100\n",
      "25361/25361 [==============================] - 221s 9ms/step - loss: 1.5166 - acc: 0.6476\n",
      "Epoch 42/100\n",
      "25361/25361 [==============================] - 221s 9ms/step - loss: 1.4135 - acc: 0.6654\n",
      "Epoch 43/100\n",
      "25361/25361 [==============================] - 222s 9ms/step - loss: 1.3846 - acc: 0.6692\n",
      "Epoch 44/100\n",
      "25361/25361 [==============================] - 221s 9ms/step - loss: 1.3068 - acc: 0.6888\n",
      "Epoch 45/100\n",
      "25361/25361 [==============================] - 222s 9ms/step - loss: 1.2573 - acc: 0.6958\n",
      "Epoch 46/100\n",
      "25361/25361 [==============================] - 221s 9ms/step - loss: 1.2132 - acc: 0.7051\n",
      "Epoch 47/100\n",
      "25361/25361 [==============================] - 222s 9ms/step - loss: 1.1669 - acc: 0.7181\n",
      "Epoch 48/100\n",
      "25361/25361 [==============================] - 222s 9ms/step - loss: 1.1304 - acc: 0.7215\n",
      "Epoch 49/100\n",
      "25361/25361 [==============================] - 222s 9ms/step - loss: 1.1007 - acc: 0.7292\n",
      "Epoch 50/100\n",
      "25361/25361 [==============================] - 222s 9ms/step - loss: 1.0542 - acc: 0.7358\n",
      "Epoch 51/100\n",
      "25361/25361 [==============================] - 222s 9ms/step - loss: 1.0185 - acc: 0.7457\n",
      "Epoch 52/100\n",
      "25361/25361 [==============================] - 222s 9ms/step - loss: 0.9983 - acc: 0.7500\n",
      "Epoch 53/100\n",
      "25361/25361 [==============================] - 222s 9ms/step - loss: 0.9410 - acc: 0.7606\n",
      "Epoch 54/100\n",
      "25361/25361 [==============================] - 223s 9ms/step - loss: 0.9342 - acc: 0.7650\n",
      "Epoch 55/100\n",
      "25361/25361 [==============================] - 222s 9ms/step - loss: 0.8986 - acc: 0.7743\n",
      "Epoch 56/100\n",
      "25361/25361 [==============================] - 222s 9ms/step - loss: 0.9175 - acc: 0.7700\n",
      "Epoch 57/100\n",
      "25361/25361 [==============================] - 222s 9ms/step - loss: 0.8437 - acc: 0.7842\n",
      "Epoch 58/100\n",
      "25361/25361 [==============================] - 222s 9ms/step - loss: 0.8300 - acc: 0.7865\n",
      "Epoch 59/100\n",
      "25361/25361 [==============================] - 222s 9ms/step - loss: 0.8121 - acc: 0.7929\n",
      "Epoch 60/100\n",
      "25361/25361 [==============================] - 222s 9ms/step - loss: 0.7936 - acc: 0.7938\n",
      "Epoch 61/100\n",
      "25361/25361 [==============================] - 222s 9ms/step - loss: 0.7916 - acc: 0.7960\n",
      "Epoch 62/100\n"
     ]
    },
    {
     "name": "stdout",
     "output_type": "stream",
     "text": [
      "25361/25361 [==============================] - 222s 9ms/step - loss: 0.7635 - acc: 0.8054\n",
      "Epoch 63/100\n",
      "25361/25361 [==============================] - 222s 9ms/step - loss: 0.7409 - acc: 0.8095\n",
      "Epoch 64/100\n",
      "25361/25361 [==============================] - 223s 9ms/step - loss: 0.7355 - acc: 0.8129\n",
      "Epoch 65/100\n",
      "25361/25361 [==============================] - 223s 9ms/step - loss: 0.7190 - acc: 0.8162\n",
      "Epoch 66/100\n",
      "25361/25361 [==============================] - 222s 9ms/step - loss: 0.6776 - acc: 0.8261\n",
      "Epoch 67/100\n",
      "25361/25361 [==============================] - 222s 9ms/step - loss: 0.6803 - acc: 0.8253\n",
      "Epoch 68/100\n",
      "25361/25361 [==============================] - 222s 9ms/step - loss: 0.6794 - acc: 0.8254\n",
      "Epoch 69/100\n",
      "25361/25361 [==============================] - 222s 9ms/step - loss: 0.6527 - acc: 0.8286\n",
      "Epoch 70/100\n",
      "25361/25361 [==============================] - 223s 9ms/step - loss: 0.6538 - acc: 0.8293\n",
      "Epoch 71/100\n",
      "25361/25361 [==============================] - 223s 9ms/step - loss: 0.6393 - acc: 0.8329\n",
      "Epoch 72/100\n",
      "25361/25361 [==============================] - 223s 9ms/step - loss: 0.6357 - acc: 0.8358\n",
      "Epoch 73/100\n",
      "25361/25361 [==============================] - 223s 9ms/step - loss: 0.6276 - acc: 0.8358\n",
      "Epoch 74/100\n",
      "25361/25361 [==============================] - 223s 9ms/step - loss: 0.6259 - acc: 0.8372\n",
      "Epoch 75/100\n",
      "25361/25361 [==============================] - 223s 9ms/step - loss: 0.5837 - acc: 0.8481\n",
      "Epoch 76/100\n",
      "25361/25361 [==============================] - 223s 9ms/step - loss: 0.5752 - acc: 0.8511\n",
      "Epoch 77/100\n",
      "25361/25361 [==============================] - 223s 9ms/step - loss: 0.5754 - acc: 0.8491\n",
      "Epoch 78/100\n",
      "25361/25361 [==============================] - 224s 9ms/step - loss: 0.5640 - acc: 0.8519\n",
      "Epoch 79/100\n",
      "25361/25361 [==============================] - 223s 9ms/step - loss: 0.5518 - acc: 0.8554\n",
      "Epoch 80/100\n",
      "25361/25361 [==============================] - 223s 9ms/step - loss: 0.5476 - acc: 0.8543\n",
      "Epoch 81/100\n",
      "25361/25361 [==============================] - 223s 9ms/step - loss: 0.5400 - acc: 0.8580\n",
      "Epoch 82/100\n",
      "25361/25361 [==============================] - 222s 9ms/step - loss: 0.5332 - acc: 0.8604\n",
      "Epoch 83/100\n",
      "25361/25361 [==============================] - 222s 9ms/step - loss: 0.5105 - acc: 0.8646\n",
      "Epoch 84/100\n",
      "25361/25361 [==============================] - 223s 9ms/step - loss: 0.5196 - acc: 0.8645\n",
      "Epoch 85/100\n",
      "25361/25361 [==============================] - 222s 9ms/step - loss: 0.5197 - acc: 0.8622\n",
      "Epoch 86/100\n",
      "25361/25361 [==============================] - 223s 9ms/step - loss: 0.4987 - acc: 0.8681\n",
      "Epoch 87/100\n",
      "25361/25361 [==============================] - 223s 9ms/step - loss: 0.5153 - acc: 0.8689\n",
      "Epoch 88/100\n",
      "25361/25361 [==============================] - 223s 9ms/step - loss: 0.4917 - acc: 0.8730\n",
      "Epoch 89/100\n",
      "25361/25361 [==============================] - 223s 9ms/step - loss: 0.4828 - acc: 0.8720\n",
      "Epoch 90/100\n",
      "25361/25361 [==============================] - 223s 9ms/step - loss: 0.4762 - acc: 0.8759\n",
      "Epoch 91/100\n",
      "25361/25361 [==============================] - 223s 9ms/step - loss: 0.4710 - acc: 0.8738\n",
      "Epoch 92/100\n",
      "25361/25361 [==============================] - 223s 9ms/step - loss: 0.4698 - acc: 0.8767\n",
      "Epoch 93/100\n",
      "25361/25361 [==============================] - 224s 9ms/step - loss: 0.4708 - acc: 0.8773\n",
      "Epoch 94/100\n",
      "25361/25361 [==============================] - 225s 9ms/step - loss: 0.4587 - acc: 0.8775\n",
      "Epoch 95/100\n",
      "25361/25361 [==============================] - 223s 9ms/step - loss: 0.4621 - acc: 0.8788\n",
      "Epoch 96/100\n",
      "25361/25361 [==============================] - 223s 9ms/step - loss: 0.4402 - acc: 0.8844\n",
      "Epoch 97/100\n",
      "25361/25361 [==============================] - 230s 9ms/step - loss: 0.4319 - acc: 0.8865\n",
      "Epoch 98/100\n",
      "25361/25361 [==============================] - 247s 10ms/step - loss: 0.4430 - acc: 0.8821\n",
      "Epoch 99/100\n",
      "25361/25361 [==============================] - 232s 9ms/step - loss: 0.4394 - acc: 0.8847\n",
      "Epoch 100/100\n",
      "25361/25361 [==============================] - 239s 9ms/step - loss: 0.4206 - acc: 0.8885\n"
     ]
    },
    {
     "data": {
      "text/plain": [
       "300"
      ]
     },
     "execution_count": 11,
     "metadata": {},
     "output_type": "execute_result"
    }
   ],
   "source": [
    "print(train_Resnet50.shape[1:])\n",
    "print(X.shape)\n",
    "#model = resnet_model(train_Resnet50)\n",
    "model = CNN_Simple()\n",
    "history = model.fit(X, y, epochs=100, batch_size=100, verbose=1)\n",
    "gc.collect()"
   ]
  },
  {
   "cell_type": "code",
   "execution_count": 12,
   "metadata": {},
   "outputs": [
    {
     "data": {
      "image/png": "[encoded data removed]",
      "text/plain": [
       "<matplotlib.figure.Figure at 0x1a2b61f550>"
      ]
     },
     "metadata": {
      "needs_background": "light"
     },
     "output_type": "display_data"
    }
   ],
   "source": [
    "plt.plot(history.history['acc'])\n",
    "plt.title('Model accuracy')\n",
    "plt.ylabel('Accuracy')\n",
    "plt.xlabel('Epoch')\n",
    "plt.show()"
   ]
  },
  {
   "cell_type": "code",
   "execution_count": 13,
   "metadata": {},
   "outputs": [
    {
     "name": "stdout",
     "output_type": "stream",
     "text": [
      "25361/25361 [==============================] - 98s 4ms/step\n"
     ]
    }
   ],
   "source": [
    "predictions = model.predict(np.array(X), verbose=1)\n"
   ]
  },
  {
   "cell_type": "code",
   "execution_count": 15,
   "metadata": {},
   "outputs": [],
   "source": [
    "pred_df = copy.copy(train_df)\n",
    "for i, pred in enumerate(predictions):\n",
    "    pred_df.loc[i, 'Id'] = label_encoder.inverse_transform(pred.argsort()[-5:][::-1])"
   ]
  },
  {
   "cell_type": "code",
   "execution_count": 16,
   "metadata": {},
   "outputs": [
    {
     "name": "stdout",
     "output_type": "stream",
     "text": [
      "           Image                                                 Id\n",
      "0  0000e88ab.jpg  [w_f48451c, new_whale, w_1f0cf0a, w_8da30ad, w...\n",
      "1  0001f9222.jpg  [w_c3d896a, new_whale, w_cbb15d2, w_53215c6, w...\n",
      "2  00029d126.jpg  [w_20df2c5, new_whale, w_f61b957, w_2b069ba, w...\n",
      "3  00050a15a.jpg  [new_whale, w_4690940, w_4bf625b, w_f0fe284, w...\n",
      "4  0005c1ef8.jpg  [new_whale, w_564a34b, w_d24c654, w_3de579a, w...\n",
      "5  0006e997e.jpg  [new_whale, w_2365d55, w_8b86b95, w_c01c1f4, w...\n",
      "6  000a6daec.jpg  [w_dd88965, new_whale, w_d405854, w_2745292, w...\n",
      "7  000f0f2bf.jpg  [new_whale, w_6afdf63, w_b403feb, w_cd4cb49, w...\n",
      "8  0016b897a.jpg  [w_64404ac, new_whale, w_8a1b71c, w_d573a68, w...\n",
      "9  001c1ac5f.jpg  [w_a6f9d33, new_whale, w_343f088, w_3de579a, w...\n"
     ]
    }
   ],
   "source": [
    "print(pred_df.head(10))\n"
   ]
  },
  {
   "cell_type": "markdown",
   "metadata": {},
   "source": [
    "### Evaluation of Prediction Precision"
   ]
  },
  {
   "cell_type": "code",
   "execution_count": 27,
   "metadata": {},
   "outputs": [],
   "source": [
    "class myarray(np.ndarray):\n",
    "    def __new__(cls, *args, **kwargs):\n",
    "        return np.array(*args, **kwargs).view(myarray)\n",
    "    def index(self, value):\n",
    "        return np.where(self == value)\n",
    "\n",
    "    \n",
    "def map_per_image(label, predictions):\n",
    "    \"\"\"Computes the precision score of one image.\n",
    "\n",
    "    Parameters\n",
    "    ----------\n",
    "    label : string\n",
    "            The true label of the image\n",
    "    predictions : list\n",
    "            A list of predicted elements (order does matter, 5 predictions allowed per image)\n",
    "\n",
    "    Returns\n",
    "    -------\n",
    "    score : double\n",
    "    \"\"\"   \n",
    "    score = 0.0\n",
    "    try:\n",
    "        if not len(np.where(predictions == label)[0])==0:\n",
    "            score =  1.0/(float(np.where(predictions == label)[0]) + 1)\n",
    "            return score\n",
    "        else:\n",
    "            return 0.\n",
    "            \n",
    "    except ValueError:\n",
    "        return 0.0\n",
    "\n",
    "def map_per_set(labels, predictions):\n",
    "    \"\"\"Computes the average over multiple images.\n",
    "\n",
    "    Parameters\n",
    "    ----------\n",
    "    labels : list\n",
    "             A list of the true labels. (Only one true label per images allowed!)\n",
    "    predictions : list of list\n",
    "             A list of predicted elements (order does matter, 5 predictions allowed per image)\n",
    "\n",
    "    Returns\n",
    "    -------\n",
    "    score : double\n",
    "    \"\"\"\n",
    "    return np.mean([map_per_image(l, p) for l,p in zip(labels, predictions)])\n"
   ]
  },
  {
   "cell_type": "code",
   "execution_count": 29,
   "metadata": {},
   "outputs": [],
   "source": [
    "totalaccuracy = 0.\n",
    "totalaccuracy = map_per_set(train_df['Id'],pred_df['Id'])"
   ]
  },
  {
   "cell_type": "code",
   "execution_count": 30,
   "metadata": {},
   "outputs": [
    {
     "name": "stdout",
     "output_type": "stream",
     "text": [
      "0.998130331349\n"
     ]
    }
   ],
   "source": [
    "print(totalaccuracy)"
   ]
  },
  {
   "cell_type": "markdown",
   "metadata": {},
   "source": [
    "### Create submission.csv (not in use for Udacity Capstone project, but created anyway)"
   ]
  },
  {
   "cell_type": "code",
   "execution_count": 32,
   "metadata": {},
   "outputs": [],
   "source": [
    "pred_df.to_csv('submission.csv', index=False)"
   ]
  }
 ],
 "metadata": {
  "kernelspec": {
   "display_name": "humpbackwhale",
   "language": "python",
   "name": "humpbackwhale"
  },
  "language_info": {
   "codemirror_mode": {
    "name": "ipython",
    "version": 2
   },
   "file_extension": ".py",
   "mimetype": "text/x-python",
   "name": "python",
   "nbconvert_exporter": "python",
   "pygments_lexer": "ipython2",
   "version": "2.7.16"
  }
 },
 "nbformat": 4,
 "nbformat_minor": 2
}
